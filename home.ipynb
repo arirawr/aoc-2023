{
 "cells": [
  {
   "cell_type": "markdown",
   "metadata": {},
   "source": [
    "# Advent of Code 2023"
   ]
  },
  {
   "cell_type": "markdown",
   "metadata": {},
   "source": [
    "## Contents\n",
    "- [Day 1](#day-1)\n",
    "- [Day 2](#day-2)\n",
    "- [Day 3](#day-3)\n",
    "- [Day 4](#day-4)"
   ]
  },
  {
   "cell_type": "markdown",
   "metadata": {},
   "source": [
    "## Boilerplate"
   ]
  },
  {
   "cell_type": "code",
   "execution_count": 74,
   "metadata": {},
   "outputs": [],
   "source": [
    "# SETUP #\n",
    "import math\n",
    "\n",
    "# TEST #\n",
    "def test(test, solution):\n",
    "    if test != solution:\n",
    "        print(f\"Test failed. Expected {solution}, but got {test}.\")\n",
    "    else: print(\"Test success!\")"
   ]
  },
  {
   "cell_type": "code",
   "execution_count": 159,
   "metadata": {},
   "outputs": [],
   "source": [
    "# FILE READING - Run *after* day config #\n",
    "with open(f\"inputs/{DAY}.txt\", mode=\"rt\") as f:\n",
    "    PUZZLE_INPUT = f.read()\n",
    "\n",
    "with open(f\"test_inputs/{DAY}.txt\", mode=\"rt\") as f:\n",
    "    TEST_INPUT = f.read()"
   ]
  },
  {
   "cell_type": "markdown",
   "metadata": {},
   "source": [
    "## Day 1\n",
    "\n",
    "The newly-improved calibration document consists of lines of text; each line originally contained a specific calibration value that the Elves now need to recover. On each line, the calibration value can be found by combining the first digit and the last digit (in that order) to form a single two-digit number.\n",
    "\n",
    "For example:\n",
    "```\n",
    "1abc2\n",
    "pqr3stu8vwx\n",
    "a1b2c3d4e5f\n",
    "treb7uchet\n",
    "```\n",
    "\n",
    "In this example, the calibration values of these four lines are 12, 38, 15, and 77. Adding these together produces 142.\n",
    "\n",
    "Consider your entire calibration document. What is the sum of all of the calibration values?\n",
    "\n",
    "--- Part Two ---\n",
    "\n",
    "Your calculation isn't quite right. It looks like some of the digits are actually spelled out with letters: one, two, three, four, five, six, seven, eight, and nine also count as valid \"digits\".\n",
    "\n",
    "Equipped with this new information, you now need to find the real first and last digit on each line. For example:\n",
    "```\n",
    "two1nine\n",
    "eightwothree\n",
    "abcone2threexyz\n",
    "xtwone3four\n",
    "4nineeightseven2\n",
    "zoneight234\n",
    "7pqrstsixteen\n",
    "```\n",
    "\n",
    "In this example, the calibration values are 29, 83, 13, 24, 42, 14, and 76. Adding these together produces 281.\n",
    "\n",
    "What is the sum of all of the calibration values?"
   ]
  },
  {
   "cell_type": "code",
   "execution_count": 53,
   "metadata": {},
   "outputs": [],
   "source": [
    "# DAY CONFIG #\n",
    "DAY = \"1\"\n",
    "TEST_SOLUTION_PART_1 = 142\n",
    "TEST_SOLUTION_PART_2 = 281"
   ]
  },
  {
   "cell_type": "code",
   "execution_count": 59,
   "metadata": {},
   "outputs": [
    {
     "name": "stdout",
     "output_type": "stream",
     "text": [
      "Test success!\n",
      "Test success!\n",
      "Part 1: 54951\n",
      "Part 2: 55218\n"
     ]
    }
   ],
   "source": [
    "# DAY 1 #\n",
    "def run(part,i):\n",
    "    \n",
    "    # Part 2 only\n",
    "    if part == 2:\n",
    "        number_names = [\n",
    "            (\"one\", \"one1one\"),\n",
    "            (\"two\", \"two2two\"),\n",
    "            (\"three\", \"three3three\"),\n",
    "            (\"four\", \"four4four\"),\n",
    "            (\"five\", \"five5five\"),\n",
    "            (\"six\", \"six6six\"),\n",
    "            (\"seven\", \"seven7seven\"),\n",
    "            (\"eight\", \"eight8eight\"),\n",
    "            (\"nine\", \"nine9nine\"),\n",
    "        ]\n",
    "        for pair in number_names:\n",
    "            i = i.replace(pair[0], pair[1])\n",
    "\n",
    "    total = 0\n",
    "    # For each line, combine the first and last digits and add to total\n",
    "    for line in i.splitlines():\n",
    "        digits = ''.join(c for c in line if c.isdigit())\n",
    "        total += int(digits[0] + digits[-1])\n",
    "    return total\n",
    "\n",
    "# Run test\n",
    "test(run(1,\"1abc2\\npqr3stu8vwx\\na1b2c3d4e5f\\ntreb7uchet\"), TEST_SOLUTION_PART_1)\n",
    "test(run(2,TEST_INPUT), TEST_SOLUTION_PART_2)\n",
    "\n",
    "# Run on real input\n",
    "print(f\"Part 1: {run(1,PUZZLE_INPUT)}\")\n",
    "print(f\"Part 2: {run(2,PUZZLE_INPUT)}\")"
   ]
  },
  {
   "cell_type": "markdown",
   "metadata": {},
   "source": [
    "## Day 2\n",
    "\n",
    "As you walk, the Elf shows you a small bag and some cubes which are either red, green, or blue. Each time you play this game, he will hide a secret number of cubes of each color in the bag, and your goal is to figure out information about the number of cubes.\n",
    "\n",
    "To get information, once a bag has been loaded with cubes, the Elf will reach into the bag, grab a handful of random cubes, show them to you, and then put them back in the bag. He'll do this a few times per game.\n",
    "\n",
    "You play several games and record the information from each game (your puzzle input). Each game is listed with its ID number (like the 11 in Game 11: ...) followed by a semicolon-separated list of subsets of cubes that were revealed from the bag (like 3 red, 5 green, 4 blue).\n",
    "\n",
    "For example, the record of a few games might look like this:\n",
    "```\n",
    "Game 1: 3 blue, 4 red; 1 red, 2 green, 6 blue; 2 green\n",
    "Game 2: 1 blue, 2 green; 3 green, 4 blue, 1 red; 1 green, 1 blue\n",
    "Game 3: 8 green, 6 blue, 20 red; 5 blue, 4 red, 13 green; 5 green, 1 red\n",
    "Game 4: 1 green, 3 red, 6 blue; 3 green, 6 red; 3 green, 15 blue, 14 red\n",
    "Game 5: 6 red, 1 blue, 3 green; 2 blue, 1 red, 2 green\n",
    "```\n",
    "\n",
    "In game 1, three sets of cubes are revealed from the bag (and then put back again). The first set is 3 blue cubes and 4 red cubes; the second set is 1 red cube, 2 green cubes, and 6 blue cubes; the third set is only 2 green cubes.\n",
    "\n",
    "The Elf would first like to know which games would have been possible if the bag contained only 12 red cubes, 13 green cubes, and 14 blue cubes?\n",
    "\n",
    "In the example above, games 1, 2, and 5 would have been possible if the bag had been loaded with that configuration. However, game 3 would have been impossible because at one point the Elf showed you 20 red cubes at once; similarly, game 4 would also have been impossible because the Elf showed you 15 blue cubes at once. If you add up the IDs of the games that would have been possible, you get 8.\n",
    "\n",
    "Determine which games would have been possible if the bag had been loaded with only 12 red cubes, 13 green cubes, and 14 blue cubes. What is the sum of the IDs of those games?\n",
    "\n",
    "--- Part Two ---\n",
    "\n",
    "As you continue your walk, the Elf poses a second question: in each game you played, what is the fewest number of cubes of each color that could have been in the bag to make the game possible?\n",
    "\n",
    "Again consider the example games from earlier:\n",
    "```\n",
    "Game 1: 3 blue, 4 red; 1 red, 2 green, 6 blue; 2 green\n",
    "Game 2: 1 blue, 2 green; 3 green, 4 blue, 1 red; 1 green, 1 blue\n",
    "Game 3: 8 green, 6 blue, 20 red; 5 blue, 4 red, 13 green; 5 green, 1 red\n",
    "Game 4: 1 green, 3 red, 6 blue; 3 green, 6 red; 3 green, 15 blue, 14 red\n",
    "Game 5: 6 red, 1 blue, 3 green; 2 blue, 1 red, 2 green\n",
    "```\n",
    "\n",
    "- In game 1, the game could have been played with as few as 4 red, 2 green, and 6 blue cubes. If any color had even one fewer cube, the game would have been impossible.\n",
    "- Game 2 could have been played with a minimum of 1 red, 3 green, and 4 blue cubes.\n",
    "- Game 3 must have been played with at least 20 red, 13 green, and 6 blue cubes.\n",
    "- Game 4 required at least 14 red, 3 green, and 15 blue cubes.\n",
    "- Game 5 needed no fewer than 6 red, 3 green, and 2 blue cubes in the bag.\n",
    "\n",
    "The power of a set of cubes is equal to the numbers of red, green, and blue cubes multiplied together. The power of the minimum set of cubes in game 1 is 48. In games 2-5 it was 12, 1560, 630, and 36, respectively. Adding up these five powers produces the sum 2286.\n",
    "\n",
    "For each game, find the minimum set of cubes that must have been present. What is the sum of the power of these sets?"
   ]
  },
  {
   "cell_type": "code",
   "execution_count": 65,
   "metadata": {},
   "outputs": [],
   "source": [
    "# DAY CONFIG #\n",
    "DAY = \"2\"\n",
    "TEST_SOLUTION_PART_1 = 8\n",
    "TEST_SOLUTION_PART_2 = 2286"
   ]
  },
  {
   "cell_type": "code",
   "execution_count": 71,
   "metadata": {},
   "outputs": [
    {
     "name": "stdout",
     "output_type": "stream",
     "text": [
      "Test success!\n",
      "Test success!\n",
      "Part 1: 2449\n",
      "Part 2: 63981\n"
     ]
    }
   ],
   "source": [
    "# DAY 2 #\n",
    "def run(part,i):\n",
    "    \n",
    "    def clean_input(i):\n",
    "        # Parse the input into the following format:\n",
    "        # {'1': {'red': 4, 'green': 2, 'blue': 6}, '2': {'red': 1, 'green': 3, 'blue': 4}...\n",
    "        clean = {}\n",
    "\n",
    "        # Input line format -> Game 1: 3 blue, 4 red; 1 red, 2 green, 6 blue; 2 green\n",
    "        for line in i.splitlines():\n",
    "            # Break into \"Game X\" and game data (list of hands), then isolate game ID\n",
    "            id, game = line.split(\": \")\n",
    "            id = id.split(\" \")[1]\n",
    "            \n",
    "            clean[id] = {\"red\": 0, \"green\": 0, \"blue\": 0}\n",
    "\n",
    "            for round in game.split(\"; \"):\n",
    "                for r in round.split(\", \"):\n",
    "                    amount, colour = r.split(\" \")\n",
    "                    # Update the value for a colour only if it is higher than the existing value\n",
    "                    clean[id][colour] = max(clean[id][colour], int(amount))\n",
    "\n",
    "        return clean\n",
    "\n",
    "    def validate(id,game):\n",
    "        # Return game ID for valid games, 0 for invalid\n",
    "        max_values = {\"red\": 12, \"green\": 13, \"blue\": 14}\n",
    "\n",
    "        for colour, value in game.items():\n",
    "            if value > max_values[colour]:\n",
    "                return 0\n",
    "            \n",
    "        return int(id)\n",
    "\n",
    "    def get_power(game):\n",
    "        return math.prod(game.values())\n",
    "\n",
    "    data = clean_input(i)\n",
    "    \n",
    "    total = 0\n",
    "    total_power = 0\n",
    "\n",
    "    for id, game in data.items():\n",
    "        total += validate(id, game)\n",
    "        total_power += get_power(game)\n",
    "\n",
    "    return total if (part == 1) else total_power\n",
    "\n",
    "# Run test\n",
    "test(run(1,TEST_INPUT), TEST_SOLUTION_PART_1)\n",
    "test(run(2,TEST_INPUT), TEST_SOLUTION_PART_2)\n",
    "\n",
    "# Run on real input\n",
    "print(f\"Part 1: {run(1,PUZZLE_INPUT)}\")\n",
    "print(f\"Part 2: {run(2,PUZZLE_INPUT)}\")"
   ]
  },
  {
   "cell_type": "markdown",
   "metadata": {},
   "source": [
    "## Day 3\n",
    "\n",
    "The engineer explains that an engine part seems to be missing from the engine, but nobody can figure out which one. If you can add up all the part numbers in the engine schematic, it should be easy to work out which part is missing.\n",
    "\n",
    "The engine schematic (your puzzle input) consists of a visual representation of the engine. There are lots of numbers and symbols you don't really understand, but apparently any number adjacent to a symbol, even diagonally, is a \"part number\" and should be included in your sum. (Periods (.) do not count as a symbol.)\n",
    "\n",
    "Here is an example engine schematic:\n",
    "```\n",
    "467..114..\n",
    "...*......\n",
    "..35..633.\n",
    "......#...\n",
    "617*......\n",
    ".....+.58.\n",
    "..592.....\n",
    "......755.\n",
    "...$.*....\n",
    ".664.598..\n",
    "```\n",
    "\n",
    "In this schematic, two numbers are not part numbers because they are not adjacent to a symbol: 114 (top right) and 58 (middle right). Every other number is adjacent to a symbol and so is a part number; their sum is 4361.\n",
    "\n",
    "Of course, the actual engine schematic is much larger. What is the sum of all of the part numbers in the engine schematic?\n",
    "\n",
    "--- Part Two ---\n",
    "\n",
    "The missing part wasn't the only issue - one of the gears in the engine is wrong. A gear is any * symbol that is adjacent to exactly two part numbers. Its gear ratio is the result of multiplying those two numbers together.\n",
    "\n",
    "This time, you need to find the gear ratio of every gear and add them all up so that the engineer can figure out which gear needs to be replaced.\n",
    "\n",
    "Consider the same engine schematic again:\n",
    "```\n",
    "467..114..\n",
    "...*......\n",
    "..35..633.\n",
    "......#...\n",
    "617*......\n",
    ".....+.58.\n",
    "..592.....\n",
    "......755.\n",
    "...$.*....\n",
    ".664.598..\n",
    "```\n",
    "\n",
    "In this schematic, there are two gears. The first is in the top left; it has part numbers 467 and 35, so its gear ratio is 16345. The second gear is in the lower right; its gear ratio is 451490. (The * adjacent to 617 is not a gear because it is only adjacent to one part number.) Adding up all of the gear ratios produces 467835.\n",
    "\n",
    "What is the sum of all of the gear ratios in your engine schematic?"
   ]
  },
  {
   "cell_type": "code",
   "execution_count": 134,
   "metadata": {},
   "outputs": [],
   "source": [
    "# DAY CONFIG #\n",
    "DAY = \"3\"\n",
    "TEST_SOLUTION_PART_1 = 4361\n",
    "TEST_SOLUTION_PART_2 = 467835"
   ]
  },
  {
   "cell_type": "code",
   "execution_count": 155,
   "metadata": {},
   "outputs": [
    {
     "name": "stdout",
     "output_type": "stream",
     "text": [
      "Test success!\n",
      "Test success!\n",
      "Part 1: 556057\n",
      "Part 2: 82824352\n"
     ]
    }
   ],
   "source": [
    "# DAY 3 #\n",
    "def run(part,i):\n",
    "    # Convert input to 2D matrix\n",
    "    i = list(map(list, i.splitlines()))\n",
    "\n",
    "    checked = [[] for _ in i]\n",
    "    parts = []\n",
    "    gears = []\n",
    "\n",
    "    def find_adjacent_numbers(row, column) -> ([int], int):\n",
    "        adjacent_count = 0\n",
    "        numbers = []\n",
    "        gear_power = 0\n",
    "\n",
    "        # Check row and column before and after\n",
    "        for r in range(row-1, row+2):\n",
    "            for c in range(column-1, column+2):\n",
    "                if number := check_digit(r,c): \n",
    "                    numbers.append(number)\n",
    "                    adjacent_count += 1\n",
    "\n",
    "        if i[row][column] == '*' and adjacent_count == 2:\n",
    "            gear_power = math.prod(numbers)\n",
    "        \n",
    "        return (numbers, gear_power)\n",
    "\n",
    "    def check_digit(row, column) -> int:\n",
    "        if row < 0 or row >= len(i) or column < 0 or column >= len(i[row]):\n",
    "            return # out of bounds\n",
    "        \n",
    "        if i[row][column].isdigit() and column not in checked[row]:\n",
    "            # Walk back to start of digit and save it\n",
    "            number = ''\n",
    "            while column > 0 and i[row][column-1].isdigit():\n",
    "                column -= 1\n",
    "                \n",
    "            while column < len(i[row]) and i[row][column].isdigit():\n",
    "                number += i[row][column]\n",
    "                checked[row].append(column)\n",
    "                column += 1\n",
    "\n",
    "            return int(number)\n",
    "\n",
    "    for row in range(len(i)):\n",
    "        for column in range(len(i[row])):\n",
    "            # Check for symbol, find numbers near it\n",
    "            if not i[row][column].isdigit() and i[row][column] != '.':\n",
    "                numbers, score = find_adjacent_numbers(row, column)\n",
    "                parts.extend(numbers)\n",
    "                gears.append(score)\n",
    "\n",
    "    return sum(parts) if part == 1 else sum(gears)\n",
    "\n",
    "# Run test\n",
    "test(run(1,TEST_INPUT), TEST_SOLUTION_PART_1)\n",
    "test(run(2,TEST_INPUT), TEST_SOLUTION_PART_2)\n",
    "\n",
    "# Run on real input\n",
    "print(f\"Part 1: {run(1,PUZZLE_INPUT)}\")\n",
    "print(f\"Part 2: {run(2,PUZZLE_INPUT)}\")"
   ]
  },
  {
   "cell_type": "markdown",
   "metadata": {},
   "source": [
    "## Day 4"
   ]
  },
  {
   "cell_type": "code",
   "execution_count": 156,
   "metadata": {},
   "outputs": [],
   "source": [
    "# DAY CONFIG #\n",
    "DAY = \"4\"\n",
    "TEST_SOLUTION_PART_1 = 0\n",
    "TEST_SOLUTION_PART_2 = 0"
   ]
  },
  {
   "cell_type": "code",
   "execution_count": 158,
   "metadata": {},
   "outputs": [
    {
     "name": "stdout",
     "output_type": "stream",
     "text": [
      "Test success!\n",
      "Test success!\n",
      "Part 1: 0\n",
      "Part 2: 0\n"
     ]
    }
   ],
   "source": [
    "# DAY 4 #\n",
    "def run(part,i):\n",
    "    return 0\n",
    "\n",
    "# Run test\n",
    "test(run(1,TEST_INPUT), TEST_SOLUTION_PART_1)\n",
    "test(run(2,TEST_INPUT), TEST_SOLUTION_PART_2)\n",
    "\n",
    "# Run on real input\n",
    "print(f\"Part 1: {run(1,PUZZLE_INPUT)}\")\n",
    "print(f\"Part 2: {run(2,PUZZLE_INPUT)}\")"
   ]
  }
 ],
 "metadata": {
  "interpreter": {
   "hash": "aee8b7b246df8f9039afb4144a1f6fd8d2ca17a180786b69acc140d282b71a49"
  },
  "kernelspec": {
   "display_name": "Python 3.11.6 64-bit",
   "language": "python",
   "name": "python3"
  },
  "language_info": {
   "codemirror_mode": {
    "name": "ipython",
    "version": 3
   },
   "file_extension": ".py",
   "mimetype": "text/x-python",
   "name": "python",
   "nbconvert_exporter": "python",
   "pygments_lexer": "ipython3",
   "version": "3.11.6"
  },
  "orig_nbformat": 4
 },
 "nbformat": 4,
 "nbformat_minor": 2
}
