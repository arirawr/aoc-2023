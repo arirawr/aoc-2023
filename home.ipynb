{
 "cells": [
  {
   "cell_type": "markdown",
   "metadata": {},
   "source": [
    "# Advent of Code 2023"
   ]
  },
  {
   "cell_type": "markdown",
   "metadata": {},
   "source": [
    "## Contents\n",
    "- [Day 1](#day-1)\n",
    "- [Day 2](#day-2)\n",
    "- [Day 3](#day-3)\n",
    "- [Day 4](#day-4)\n",
    "- [Day 5](#day-5)\n",
    "- [Day 6](#day-6)\n",
    "- [Day 7](#day-7)\n",
    "- [Day 8](#day-8)\n",
    "- [Day 9](#day-9)\n",
    "- [Day 10](#day-10)\n",
    "- [Day 11](#day-11)\n",
    "- [Day 12](#day-12)"
   ]
  },
  {
   "cell_type": "markdown",
   "metadata": {},
   "source": [
    "## Boilerplate"
   ]
  },
  {
   "cell_type": "code",
   "execution_count": 41,
   "metadata": {},
   "outputs": [],
   "source": [
    "# SETUP #\n",
    "import math\n",
    "import operator\n",
    "from operator import ne\n",
    "from itertools import compress\n",
    "from functools import reduce, cmp_to_key\n",
    "\n",
    "# TEST #\n",
    "def test(test, solution):\n",
    "    if test != solution:\n",
    "        print(f\"Test failed. Expected {solution}, but got {test}.\")\n",
    "    else: print(\"Test success!\")"
   ]
  },
  {
   "cell_type": "code",
   "execution_count": 60,
   "metadata": {},
   "outputs": [],
   "source": [
    "# FILE READING - Run *after* day config #\n",
    "with open(f\"inputs/{DAY}.txt\", mode=\"rt\") as f:\n",
    "    PUZZLE_INPUT = f.read()\n",
    "\n",
    "with open(f\"test_inputs/{DAY}.txt\", mode=\"rt\") as f:\n",
    "    TEST_INPUT = f.read()"
   ]
  },
  {
   "cell_type": "markdown",
   "metadata": {},
   "source": [
    "## Day 1\n",
    "\n",
    "[Link to puzzle](https://adventofcode.com/2023/day/1)"
   ]
  },
  {
   "cell_type": "code",
   "execution_count": 101,
   "metadata": {},
   "outputs": [],
   "source": [
    "# DAY CONFIG #\n",
    "DAY = \"1\"\n",
    "TEST_SOLUTION_PART_1 = 142\n",
    "TEST_SOLUTION_PART_2 = 281"
   ]
  },
  {
   "cell_type": "code",
   "execution_count": 104,
   "metadata": {},
   "outputs": [
    {
     "name": "stdout",
     "output_type": "stream",
     "text": [
      "Test success!\n",
      "Test success!\n",
      "Part 1: 54951\n",
      "Part 2: 55218\n",
      "CPU times: user 7.99 ms, sys: 771 µs, total: 8.76 ms\n",
      "Wall time: 8.25 ms\n"
     ]
    }
   ],
   "source": [
    "%%time\n",
    "# DAY 1 #\n",
    "def run(part,i):\n",
    "    \n",
    "    # Part 2 only\n",
    "    if part == 2:\n",
    "        number_names = [\n",
    "            (\"one\", \"one1one\"),\n",
    "            (\"two\", \"two2two\"),\n",
    "            (\"three\", \"three3three\"),\n",
    "            (\"four\", \"four4four\"),\n",
    "            (\"five\", \"five5five\"),\n",
    "            (\"six\", \"six6six\"),\n",
    "            (\"seven\", \"seven7seven\"),\n",
    "            (\"eight\", \"eight8eight\"),\n",
    "            (\"nine\", \"nine9nine\"),\n",
    "        ]\n",
    "        for pair in number_names:\n",
    "            i = i.replace(pair[0], pair[1])\n",
    "\n",
    "    total = 0\n",
    "    # For each line, combine the first and last digits and add to total\n",
    "    for line in i.splitlines():\n",
    "        digits = ''.join(c for c in line if c.isdigit())\n",
    "        total += int(digits[0] + digits[-1])\n",
    "    return total\n",
    "\n",
    "# Run test\n",
    "test(run(1,\"1abc2\\npqr3stu8vwx\\na1b2c3d4e5f\\ntreb7uchet\"), TEST_SOLUTION_PART_1)\n",
    "test(run(2,TEST_INPUT), TEST_SOLUTION_PART_2)\n",
    "\n",
    "# Run on real input\n",
    "print(f\"Part 1: {run(1,PUZZLE_INPUT)}\")\n",
    "print(f\"Part 2: {run(2,PUZZLE_INPUT)}\")"
   ]
  },
  {
   "cell_type": "markdown",
   "metadata": {},
   "source": [
    "## Day 2\n",
    "\n",
    "[Link to puzzle](https://adventofcode.com/2023/day/2)"
   ]
  },
  {
   "cell_type": "code",
   "execution_count": 105,
   "metadata": {},
   "outputs": [],
   "source": [
    "# DAY CONFIG #\n",
    "DAY = \"2\"\n",
    "TEST_SOLUTION_PART_1 = 8\n",
    "TEST_SOLUTION_PART_2 = 2286"
   ]
  },
  {
   "cell_type": "code",
   "execution_count": 108,
   "metadata": {},
   "outputs": [
    {
     "name": "stdout",
     "output_type": "stream",
     "text": [
      "Test success!\n",
      "Test success!\n",
      "Part 1: 2449\n",
      "Part 2: 63981\n",
      "CPU times: user 3.75 ms, sys: 101 µs, total: 3.86 ms\n",
      "Wall time: 3.94 ms\n"
     ]
    }
   ],
   "source": [
    "%%time\n",
    "# DAY 2 #\n",
    "def run(part,i):\n",
    "    \n",
    "    def clean_input(input):\n",
    "        # Parse the input into the following format:\n",
    "        # {'1': {'red': 4, 'green': 2, 'blue': 6}, '2': {'red': 1, 'green': 3, 'blue': 4}...\n",
    "        clean = {}\n",
    "\n",
    "        # Input line format -> Game 1: 3 blue, 4 red; 1 red, 2 green, 6 blue; 2 green\n",
    "        for line in input.splitlines():\n",
    "            # Break into \"Game X\" and game data (list of hands), then isolate game ID\n",
    "            id, game = line.split(\": \")\n",
    "            id = id.split(\" \")[1]\n",
    "            \n",
    "            clean[id] = {\"red\": 0, \"green\": 0, \"blue\": 0}\n",
    "\n",
    "            for round in game.split(\"; \"):\n",
    "                for r in round.split(\", \"):\n",
    "                    amount, colour = r.split(\" \")\n",
    "                    # Update the value for a colour only if it is higher than the existing value\n",
    "                    clean[id][colour] = max(clean[id][colour], int(amount))\n",
    "\n",
    "        return clean\n",
    "\n",
    "    def validate(id,game):\n",
    "        # Return game ID for valid games, 0 for invalid\n",
    "        max_values = {\"red\": 12, \"green\": 13, \"blue\": 14}\n",
    "\n",
    "        for colour, value in game.items():\n",
    "            if value > max_values[colour]:\n",
    "                return 0\n",
    "            \n",
    "        return int(id)\n",
    "\n",
    "    def get_power(game):\n",
    "        return math.prod(game.values())\n",
    "\n",
    "    data = clean_input(i)\n",
    "    \n",
    "    total = 0\n",
    "    total_power = 0\n",
    "\n",
    "    for id, game in data.items():\n",
    "        total += validate(id, game)\n",
    "        total_power += get_power(game)\n",
    "\n",
    "    return total if (part == 1) else total_power\n",
    "\n",
    "# Run test\n",
    "test(run(1,TEST_INPUT), TEST_SOLUTION_PART_1)\n",
    "test(run(2,TEST_INPUT), TEST_SOLUTION_PART_2)\n",
    "\n",
    "# Run on real input\n",
    "print(f\"Part 1: {run(1,PUZZLE_INPUT)}\")\n",
    "print(f\"Part 2: {run(2,PUZZLE_INPUT)}\")"
   ]
  },
  {
   "cell_type": "markdown",
   "metadata": {},
   "source": [
    "## Day 3\n",
    "\n",
    "[Link to puzzle](https://adventofcode.com/2023/day/3)"
   ]
  },
  {
   "cell_type": "code",
   "execution_count": 109,
   "metadata": {},
   "outputs": [],
   "source": [
    "# DAY CONFIG #\n",
    "DAY = \"3\"\n",
    "TEST_SOLUTION_PART_1 = 4361\n",
    "TEST_SOLUTION_PART_2 = 467835"
   ]
  },
  {
   "cell_type": "code",
   "execution_count": 111,
   "metadata": {},
   "outputs": [
    {
     "name": "stdout",
     "output_type": "stream",
     "text": [
      "Test success!\n",
      "Test success!\n",
      "Part 1: 556057\n",
      "Part 2: 82824352\n",
      "CPU times: user 17.2 ms, sys: 1.43 ms, total: 18.7 ms\n",
      "Wall time: 17.6 ms\n"
     ]
    }
   ],
   "source": [
    "%%time\n",
    "# DAY 3 #\n",
    "def run(part,i):\n",
    "    # Convert input to 2D matrix\n",
    "    i = list(map(list, i.splitlines()))\n",
    "\n",
    "    checked = [[] for _ in i]\n",
    "    parts = []\n",
    "    gears = []\n",
    "\n",
    "    def find_adjacent_numbers(row, column) -> ([int], int):\n",
    "        adjacent_count = 0\n",
    "        numbers = []\n",
    "        gear_power = 0\n",
    "\n",
    "        # Check row and column before and after\n",
    "        for r in range(row-1, row+2):\n",
    "            for c in range(column-1, column+2):\n",
    "                if number := check_digit(r,c): \n",
    "                    numbers.append(number)\n",
    "                    adjacent_count += 1\n",
    "\n",
    "        if i[row][column] == '*' and adjacent_count == 2:\n",
    "            gear_power = math.prod(numbers)\n",
    "        \n",
    "        return (numbers, gear_power)\n",
    "\n",
    "    def check_digit(row, column) -> int:\n",
    "        if row < 0 or row >= len(i) or column < 0 or column >= len(i[row]):\n",
    "            return # out of bounds\n",
    "        \n",
    "        if i[row][column].isdigit() and column not in checked[row]:\n",
    "            # Walk back to start of digit and save it\n",
    "            number = ''\n",
    "            while column > 0 and i[row][column-1].isdigit():\n",
    "                column -= 1\n",
    "                \n",
    "            while column < len(i[row]) and i[row][column].isdigit():\n",
    "                number += i[row][column]\n",
    "                checked[row].append(column)\n",
    "                column += 1\n",
    "\n",
    "            return int(number)\n",
    "\n",
    "    for row in range(len(i)):\n",
    "        for column in range(len(i[row])):\n",
    "            # Check for symbol, find numbers near it\n",
    "            if not i[row][column].isdigit() and i[row][column] != '.':\n",
    "                numbers, score = find_adjacent_numbers(row, column)\n",
    "                parts.extend(numbers)\n",
    "                gears.append(score)\n",
    "\n",
    "    return sum(parts) if part == 1 else sum(gears)\n",
    "\n",
    "# Run test\n",
    "test(run(1,TEST_INPUT), TEST_SOLUTION_PART_1)\n",
    "test(run(2,TEST_INPUT), TEST_SOLUTION_PART_2)\n",
    "\n",
    "# Run on real input\n",
    "print(f\"Part 1: {run(1,PUZZLE_INPUT)}\")\n",
    "print(f\"Part 2: {run(2,PUZZLE_INPUT)}\")"
   ]
  },
  {
   "cell_type": "markdown",
   "metadata": {},
   "source": [
    "## Day 4\n",
    "\n",
    "[Link to puzzle](https://adventofcode.com/2023/day/4)"
   ]
  },
  {
   "cell_type": "code",
   "execution_count": 112,
   "metadata": {},
   "outputs": [],
   "source": [
    "# DAY CONFIG #\n",
    "DAY = \"4\"\n",
    "TEST_SOLUTION_PART_1 = 13\n",
    "TEST_SOLUTION_PART_2 = 30"
   ]
  },
  {
   "cell_type": "code",
   "execution_count": 115,
   "metadata": {},
   "outputs": [
    {
     "name": "stdout",
     "output_type": "stream",
     "text": [
      "Test success!\n",
      "Test success!\n",
      "Part 1: 28750\n",
      "Part 2: 10212704\n",
      "CPU times: user 6.17 ms, sys: 535 µs, total: 6.71 ms\n",
      "Wall time: 6.52 ms\n"
     ]
    }
   ],
   "source": [
    "%%time\n",
    "# DAY 4 #\n",
    "\n",
    "def run(part,i):\n",
    "    \n",
    "    def clean_input(input):\n",
    "        # Format -> Card 1: 41 48 83 86 17 | 83 86  6 31 17  9 48 53\n",
    "        # Return generator of id/wins tuples\n",
    "        for line in input.splitlines():\n",
    "            id, data = line.split(\": \")\n",
    "            id = int(id.split(\" \")[-1])\n",
    "            winners, card = (set(x.split()) for x in data.split(\" | \"))\n",
    "            wins = len(winners & card)\n",
    "            yield id, wins\n",
    "    \n",
    "    score = 0\n",
    "    copies = [1] * len(i.splitlines()) # 1 copy of each card to start\n",
    "\n",
    "    for id, wins in clean_input(i):\n",
    "        score += 1 << (wins - 1) if wins > 0 else 0 # bit shift - same as 2^(wins-1)\n",
    "        for x in range(wins):\n",
    "            copies[id+x] += copies[id-1]\n",
    "\n",
    "    return score if part == 1 else sum(copies)\n",
    "\n",
    "# Run test\n",
    "test(run(1,TEST_INPUT), TEST_SOLUTION_PART_1)\n",
    "test(run(2,TEST_INPUT), TEST_SOLUTION_PART_2)\n",
    "\n",
    "# Run on real input\n",
    "print(f\"Part 1: {run(1,PUZZLE_INPUT)}\")\n",
    "print(f\"Part 2: {run(2,PUZZLE_INPUT)}\")"
   ]
  },
  {
   "cell_type": "markdown",
   "metadata": {},
   "source": [
    "## Day 5\n",
    "\n",
    "[Link to puzzle](https://adventofcode.com/2023/day/5)"
   ]
  },
  {
   "cell_type": "code",
   "execution_count": 116,
   "metadata": {},
   "outputs": [],
   "source": [
    "# DAY CONFIG #\n",
    "DAY = \"5\"\n",
    "TEST_SOLUTION_PART_1 = 35\n",
    "TEST_SOLUTION_PART_2 = 46"
   ]
  },
  {
   "cell_type": "code",
   "execution_count": 119,
   "metadata": {},
   "outputs": [
    {
     "name": "stdout",
     "output_type": "stream",
     "text": [
      "Test success!\n",
      "Test success!\n",
      "Part 1: 313045984\n",
      "Part 2: 20283860\n",
      "CPU times: user 5.69 ms, sys: 549 µs, total: 6.23 ms\n",
      "Wall time: 5.85 ms\n"
     ]
    }
   ],
   "source": [
    "%%time\n",
    "# DAY 5 #\n",
    "\n",
    "def run(part,i):\n",
    "\n",
    "    def clean_input(input):\n",
    "        groups = input.split(\"\\n\\n\")\n",
    "        seeds = groups[0].split()[1:]\n",
    " \n",
    "        mappings = []\n",
    "        for map in groups[1:]:\n",
    "            section = []\n",
    "            for line in map.splitlines()[1:]:\n",
    "                start_dest, start_source, length = [int(val) for val in line.split()]\n",
    "                section.append((range(start_source, start_source + length), start_dest))\n",
    "            mappings.append(section)\n",
    "\n",
    "        return seeds, mappings\n",
    "\n",
    "    def map_value(value, section):\n",
    "        for range, destination in section:\n",
    "            if value in range:\n",
    "                return destination + (value - range.start)\n",
    "        return value\n",
    "\n",
    "    def check_ranges(ranges_to_check, mapping):\n",
    "        new_ranges = []\n",
    "\n",
    "        for current_range in ranges_to_check:\n",
    "            for map_range, next_start in mapping:\n",
    "                intersection = range(max(map_range.start, current_range.start), min(map_range.stop, current_range.stop))\n",
    "                \n",
    "                if intersection: # if there is a valid intersection\n",
    "                    offset = next_start - map_range.start\n",
    "                    new_ranges.append(range(intersection.start + offset, intersection.stop + offset))\n",
    "\n",
    "                    # Update ranges to check based on the intersection\n",
    "                    if intersection.start > current_range.start:\n",
    "                        ranges_to_check.append(range(current_range.start, intersection.start))\n",
    "\n",
    "                    if intersection.stop < current_range.stop:\n",
    "                        ranges_to_check.append(range(intersection.stop, current_range.stop))\n",
    "\n",
    "                    break\n",
    "            else:\n",
    "                new_ranges.append(current_range)\n",
    "\n",
    "        return new_ranges\n",
    "    \n",
    "    # Main functions #\n",
    "    \n",
    "    def part1(): \n",
    "        locations = []   \n",
    "        seeds, mappings = clean_input(i)\n",
    "        for seed in seeds:\n",
    "            for section in mappings:\n",
    "                seed = map_value(int(seed), section)\n",
    "            locations.append(seed)   \n",
    "        return min(locations)\n",
    "\n",
    "    def part2():\n",
    "        seeds, mappings = clean_input(i)\n",
    "        seed_ranges = [\n",
    "            range(int(seeds[i]), int(seeds[i + 1]) + int(seeds[i])) \n",
    "            for i in range(0, len(seeds), 2)\n",
    "        ]\n",
    "\n",
    "        lowest = float('inf') # really big number\n",
    "        for sr in seed_ranges:\n",
    "            ranges = [sr]\n",
    "\n",
    "            for mapping in mappings:\n",
    "                ranges = check_ranges(ranges, mapping)\n",
    "\n",
    "            lowest = min(lowest, min(r.start for r in ranges))\n",
    "\n",
    "        return lowest\n",
    "                \n",
    "    return part1() if part == 1 else part2()\n",
    "\n",
    "# Run test\n",
    "test(run(1,TEST_INPUT), TEST_SOLUTION_PART_1)\n",
    "test(run(2,TEST_INPUT), TEST_SOLUTION_PART_2)\n",
    "\n",
    "# Run on real input\n",
    "print(f\"Part 1: {run(1,PUZZLE_INPUT)}\")\n",
    "print(f\"Part 2: {run(2,PUZZLE_INPUT)}\")"
   ]
  },
  {
   "cell_type": "markdown",
   "metadata": {},
   "source": [
    "## Day 6\n",
    "\n",
    "[Link to puzzle](https://adventofcode.com/2023/day/6)"
   ]
  },
  {
   "cell_type": "code",
   "execution_count": 137,
   "metadata": {},
   "outputs": [],
   "source": [
    "# DAY CONFIG #\n",
    "DAY = \"6\"\n",
    "TEST_SOLUTION_PART_1 = 288\n",
    "TEST_SOLUTION_PART_2 = 71503"
   ]
  },
  {
   "cell_type": "code",
   "execution_count": 184,
   "metadata": {},
   "outputs": [
    {
     "name": "stdout",
     "output_type": "stream",
     "text": [
      "Test success!\n",
      "Test success!\n",
      "Part 1: 252000\n",
      "Part 2: 36992486\n",
      "CPU times: user 403 µs, sys: 66 µs, total: 469 µs\n",
      "Wall time: 449 µs\n"
     ]
    }
   ],
   "source": [
    "%%time\n",
    "# DAY 6 #\n",
    "\n",
    "def run(part,i):\n",
    "    \n",
    "    def clean_input(input, combined=True):\n",
    "        lines = input.splitlines()\n",
    "        if combined:\n",
    "            # Tuple of (time, distance)\n",
    "            result = (int(''.join(line.split()[1:])) for line in lines)\n",
    "        else:\n",
    "            # List of (time, distance) for each race\n",
    "            result = list(zip(map(int, lines[0].split()[1:]), map(int, lines[1].split()[1:])))\n",
    "        return result\n",
    "\n",
    "    def winning_cases_brute(time, distance):\n",
    "        # Simple solution, ~5s for part 2\n",
    "        # True/False for win/lose\n",
    "        wins = [speed * (time - speed) > distance for speed in range(time)]\n",
    "        return sum(wins)\n",
    "\n",
    "    def winning_cases_quadratic(time, distance):\n",
    "        # Quadratic equation time!\n",
    "        # a = 1, b = -time, c = distance\n",
    "        sqrt_discriminant = math.sqrt(time**2 - 4*distance)\n",
    "        upper, lower = (time + sqrt_discriminant) / 2, (time - sqrt_discriminant) / 2\n",
    "        return math.ceil(upper) - math.floor(lower) -1\n",
    "    \n",
    "    # Main functions #\n",
    "\n",
    "    def part1():\n",
    "        # Multiply the winning cases for each race\n",
    "        races = clean_input(i, False)\n",
    "        return reduce(operator.mul, (winning_cases_quadratic(*race) for race in races), 1)\n",
    "\n",
    "    def part2():\n",
    "        # Get number of winning cases for single race\n",
    "        time, distance = clean_input(i)\n",
    "        return winning_cases_quadratic(time, distance)\n",
    "                \n",
    "    return part1() if part == 1 else part2()\n",
    "\n",
    "# Run test\n",
    "test(run(1,TEST_INPUT), TEST_SOLUTION_PART_1)\n",
    "test(run(2,TEST_INPUT), TEST_SOLUTION_PART_2)\n",
    "\n",
    "# Run on real input\n",
    "print(f\"Part 1: {run(1,PUZZLE_INPUT)}\")\n",
    "print(f\"Part 2: {run(2,PUZZLE_INPUT)}\")"
   ]
  },
  {
   "cell_type": "markdown",
   "metadata": {},
   "source": [
    "## Day 7\n",
    "\n",
    "[Link to puzzle](https://adventofcode.com/2023/day/7)"
   ]
  },
  {
   "cell_type": "code",
   "execution_count": 226,
   "metadata": {},
   "outputs": [],
   "source": [
    "# DAY CONFIG #\n",
    "DAY = \"7\"\n",
    "TEST_SOLUTION_PART_1 = 6440\n",
    "TEST_SOLUTION_PART_2 = 5905"
   ]
  },
  {
   "cell_type": "code",
   "execution_count": 265,
   "metadata": {},
   "outputs": [
    {
     "name": "stdout",
     "output_type": "stream",
     "text": [
      "Test success!\n",
      "Test success!\n",
      "Part 1: 252656917\n",
      "Part 2: 253499763\n",
      "CPU times: user 499 ms, sys: 1.72 ms, total: 500 ms\n",
      "Wall time: 505 ms\n"
     ]
    }
   ],
   "source": [
    "%%time\n",
    "# DAY 7 #\n",
    "\n",
    "def run(part,i):\n",
    "    \n",
    "    def clean_input(input):\n",
    "        # [(hand, bid)...]\n",
    "        return [line.split() for line in input.strip().split('\\n')]\n",
    "\n",
    "    values = {\n",
    "        \"A\": 14,\n",
    "        \"K\": 13,\n",
    "        \"Q\": 12,\n",
    "        \"J\": 11,\n",
    "        \"T\": 10,\n",
    "        \"9\": 9,\n",
    "        \"8\": 8,\n",
    "        \"7\": 7,\n",
    "        \"6\": 6,\n",
    "        \"5\": 5,\n",
    "        \"4\": 4,\n",
    "        \"3\": 3,\n",
    "        \"2\": 2\n",
    "    }\n",
    "\n",
    "    def get_points(hand):\n",
    "        # 6 Five of a kind, where all five cards have the same label: AAAAA\n",
    "        # 5 Four of a kind, where four cards have the same label and one card has a different label: AA8AA\n",
    "        # 4 Full house, where three cards have the same label, and the remaining two cards share a different label: 23332\n",
    "        # 3 Three of a kind, where three cards have the same label, and the remaining two cards are each different from any other card in the hand: TTT98\n",
    "        # 2 Two pair, where two cards share one label, two other cards share a second label, and the remaining card has a third label: 23432\n",
    "        # 1 One pair, where two cards share one label, and the other three cards have a different label from the pair and each other: A23A4\n",
    "        # 0 High card, where all cards' labels are distinct: 23456\n",
    "        cards = [card for card in hand]\n",
    "        counts = {card_type: cards.count(card_type) for card_type in set(cards)}\n",
    "\n",
    "        if 5 in counts.values():\n",
    "            return 6  # Five of a kind\n",
    "        elif 4 in counts.values():\n",
    "            return 5  # Four of a kind\n",
    "        elif sorted(counts.values()) == [2, 3]:\n",
    "            return 4  # Full house\n",
    "        elif 3 in counts.values():\n",
    "            return 3  # Three of a kind\n",
    "        elif sorted(counts.values()) == [1, 2, 2]:\n",
    "            return 2  # Two pair\n",
    "        elif sorted(counts.values()) == [1, 1, 1, 2]:\n",
    "            return 1  # One pair\n",
    "        else:\n",
    "            return 0\n",
    "\n",
    "    def compare_hands(left, right):\n",
    "        left, right = left[0], right[0]\n",
    "\n",
    "        if (part == 2):\n",
    "            hand_type_diff = max_joker(left) - max_joker(right)\n",
    "        else:\n",
    "            hand_type_diff = get_points(left) - get_points(right)\n",
    "        if hand_type_diff != 0:\n",
    "            return hand_type_diff\n",
    "\n",
    "        # Same point value - move to tie breaker\n",
    "        # Compare the values of the first non-matching character\n",
    "        return next((values[a] - values[b] for a, b in zip(left, right) if a != b), 0)\n",
    "    \n",
    "    def max_joker(hand):\n",
    "        max_points = 0\n",
    "        for v in values.keys(): # check point result of replacing with each value\n",
    "            test_hand = hand.replace(\"J\",v)\n",
    "            if get_points(test_hand) > max_points:\n",
    "                max_points = get_points(test_hand)\n",
    "        return max_points\n",
    "    \n",
    "    data = clean_input(i)\n",
    "\n",
    "    winnings = 0\n",
    "    if part == 2: values[\"J\"] = 1 # in part 2, J is less valuable\n",
    "    for index, hand in enumerate(sorted(data, key=cmp_to_key(compare_hands))):\n",
    "        winnings += int(hand[1]) * (index+1) # bet * rank of hand\n",
    "                \n",
    "    return winnings\n",
    "\n",
    "# Run test\n",
    "test(run(1,TEST_INPUT), TEST_SOLUTION_PART_1)\n",
    "test(run(2,TEST_INPUT), TEST_SOLUTION_PART_2)\n",
    "\n",
    "# Run on real input\n",
    "print(f\"Part 1: {run(1,PUZZLE_INPUT)}\")\n",
    "print(f\"Part 2: {run(2,PUZZLE_INPUT)}\")"
   ]
  },
  {
   "cell_type": "markdown",
   "metadata": {},
   "source": [
    "## Day 8\n",
    "\n",
    "[Link to puzzle](https://adventofcode.com/2023/day/8)"
   ]
  },
  {
   "cell_type": "code",
   "execution_count": 59,
   "metadata": {},
   "outputs": [],
   "source": [
    "# DAY CONFIG #\n",
    "DAY = \"8\"\n",
    "TEST_SOLUTION_PART_1 = 6\n",
    "TEST_SOLUTION_PART_2 = 6"
   ]
  },
  {
   "cell_type": "code",
   "execution_count": 63,
   "metadata": {},
   "outputs": [
    {
     "name": "stdout",
     "output_type": "stream",
     "text": [
      "{'AAA': ('BBB', 'BBB'), 'BBB': ('AAA', 'ZZZ'), 'ZZZ': ('ZZZ', 'ZZZ')}\n",
      "Test success!\n",
      "{'11A': ('11B', 'XXX'), '11B': ('XXX', '11Z'), '11Z': ('11B', 'XXX'), '22A': ('22B', 'XXX'), '22B': ('22C', '22C'), '22C': ('22Z', '22Z'), '22Z': ('22B', '22B'), 'XXX': ('XXX', 'XXX')}\n",
      "Test success!\n",
      "{'FTX': ('VVM', 'VVM'), 'LNR': ('DQG', 'CMF'), 'NXS': ('TKM', 'FPB'), 'FQF': ('HDC', 'NFB'), 'SPH': ('MQB', 'XFB'), 'FDL': ('CTR', 'NXS'), 'DMF': ('VHG', 'LJV'), 'JBP': ('CKR', 'VBF'), 'MMK': ('JVC', 'NSS'), 'LLT': ('MVP', 'QFC'), 'VVN': ('SHF', 'XMN'), 'CRR': ('QNC', 'JMC'), 'RRK': ('QCR', 'VFT'), 'JXR': ('DSM', 'RCD'), 'BMD': ('KPL', 'CRR'), 'HQM': ('LDR', 'LFR'), 'VDP': ('MGM', 'GFQ'), 'HLV': ('GLV', 'TSS'), 'LJQ': ('VDS', 'LGB'), 'DVJ': ('RJP', 'DTM'), 'VHL': ('MFK', 'PCV'), 'LFH': ('BTX', 'VPC'), 'NBN': ('NBR', 'DRD'), 'NKB': ('TRQ', 'LTT'), 'QPM': ('VPQ', 'SQB'), 'VFD': ('QBK', 'LCH'), 'HRX': ('KJL', 'SJC'), 'RKF': ('TFS', 'XMR'), 'GQK': ('FVS', 'VDC'), 'DTV': ('DHQ', 'PDG'), 'MHM': ('KLF', 'QJL'), 'GTM': ('CPP', 'JJT'), 'LBN': ('RFM', 'KCX'), 'JJR': ('PNN', 'HPG'), 'MDL': ('BQM', 'RKF'), 'DSL': ('BMD', 'GVK'), 'MQF': ('JXR', 'SPJ'), 'VBF': ('QVV', 'GTM'), 'MBJ': ('NRH', 'JCX'), 'NRH': ('CJM', 'KHS'), 'SCN': ('BJC', 'GTN'), 'HRK': ('KHH', 'TSX'), 'MCS': ('TPF', 'HBM'), 'BQS': ('VFD', 'MNF'), 'TPB': ('HTS', 'FLR'), 'XVV': ('XLX', 'GDL'), 'HGK': ('PJC', 'KBT'), 'MXF': ('MFC', 'FQN'), 'JVS': ('TMB', 'JPF'), 'RFM': ('FSQ', 'MQS'), 'XCG': ('TPF', 'HBM'), 'CMR': ('LNV', 'LNT'), 'BVF': ('XXG', 'MRB'), 'KFQ': ('DMF', 'VXS'), 'KVS': ('VSF', 'PRK'), 'VVL': ('QFC', 'MVP'), 'BNB': ('GDL', 'XLX'), 'BRB': ('LNR', 'XBR'), 'BJK': ('QKC', 'SPG'), 'FDQ': ('HQR', 'GQK'), 'JPC': ('TVL', 'XDZ'), 'JCL': ('SJC', 'KJL'), 'BBT': ('LLL', 'XHB'), 'FNH': ('NNN', 'LSM'), 'QQM': ('THC', 'TQH'), 'VDB': ('DDR', 'VSX'), 'MNS': ('DPG', 'DBV'), 'JCS': ('SNH', 'VDP'), 'BGS': ('KVS', 'CLH'), 'MDS': ('JXV', 'VFJ'), 'JJM': ('XHG', 'PNJ'), 'NJF': ('BBF', 'DVJ'), 'GKX': ('KHH', 'TSX'), 'BXV': ('DHM', 'VHR'), 'CMF': ('NJF', 'VCK'), 'LQN': ('VPV', 'RFH'), 'TST': ('BMK', 'XSS'), 'SSB': ('KMH', 'DKD'), 'RFH': ('SSB', 'SFG'), 'XXG': ('TQV', 'JDH'), 'TNT': ('FNL', 'VNQ'), 'HDF': ('NVD', 'GQR'), 'MQN': ('HTH', 'FXL'), 'QSG': ('LFP', 'FQF'), 'CKK': ('GDS', 'FDL'), 'XXT': ('NBM', 'XFJ'), 'PDG': ('PPP', 'HKP'), 'FLV': ('MBS', 'BVX'), 'HTZ': ('DXG', 'XTB'), 'DPG': ('TST', 'TPD'), 'DCR': ('BFK', 'TPB'), 'PGD': ('MBD', 'KBS'), 'FTG': ('GLT', 'MNK'), 'GFK': ('PMT', 'JDT'), 'HQR': ('FVS', 'VDC'), 'VKD': ('TQG', 'KVP'), 'KVL': ('GQN', 'VMF'), 'SLT': ('FFT', 'TXF'), 'ZZZ': ('XCG', 'MCS'), 'JJT': ('QSG', 'NLS'), 'XGL': ('RRC', 'MRV'), 'DHV': ('JKB', 'JXB'), 'FFV': ('NPN', 'KVC'), 'LTV': ('XGF', 'QPM'), 'MRB': ('JDH', 'TQV'), 'QHV': ('SLB', 'TGR'), 'HLD': ('FXL', 'HTH'), 'GLV': ('RQT', 'BXT'), 'QFC': ('GLF', 'CMQ'), 'SRL': ('QVM', 'FQM'), 'TMF': ('BTX', 'VPC'), 'JST': ('PST', 'SRQ'), 'FFX': ('FJJ', 'MMF'), 'FNL': ('NNT', 'LBM'), 'MVT': ('SJV', 'TBL'), 'SLB': ('TKV', 'CGV'), 'TQB': ('CCF', 'VTB'), 'NTV': ('QPM', 'XGF'), 'DXG': ('NVP', 'JNH'), 'CNQ': ('QFX', 'XRT'), 'VVM': ('BVF', 'CNF'), 'XHG': ('HRK', 'GKX'), 'PCV': ('GVN', 'NMN'), 'XMR': ('KST', 'NNH'), 'GQN': ('BRM', 'FQD'), 'CLV': ('VMQ', 'KFG'), 'TQR': ('HPT', 'JVP'), 'JGH': ('DPG', 'DBV'), 'BPX': ('JJL', 'PGD'), 'GSH': ('NDR', 'NDR'), 'TRP': ('BSP', 'CMB'), 'QSD': ('VSL', 'XTT'), 'DGL': ('CNQ', 'JMT'), 'FFT': ('GRM', 'KMF'), 'SHV': ('NDR', 'HTZ'), 'TPJ': ('MFB', 'SHN'), 'SHN': ('TVQ', 'SMD'), 'BXJ': ('CMR', 'STP'), 'RKV': ('PJR', 'QHR'), 'TRQ': ('JVR', 'QPL'), 'CKR': ('GTM', 'QVV'), 'QQC': ('FMM', 'DNH'), 'PPP': ('MMS', 'BML'), 'XFP': ('VXQ', 'XXT'), 'KJL': ('RBJ', 'BKT'), 'KVC': ('JXC', 'BVG'), 'KNL': ('MDL', 'TBB'), 'PJK': ('GMM', 'QLH'), 'PST': ('KBH', 'QHQ'), 'HLB': ('HPT', 'JVP'), 'RKG': ('BCJ', 'PQV'), 'GSV': ('BDF', 'CCK'), 'FBJ': ('BSR', 'GJR'), 'BMK': ('HPR', 'MRT'), 'PVR': ('BGK', 'JHM'), 'PCX': ('MRP', 'TRP'), 'JQJ': ('HKT', 'NLD'), 'CMX': ('VMN', 'FNQ'), 'LGQ': ('QPC', 'XVK'), 'XTB': ('JNH', 'NVP'), 'DBB': ('GRF', 'RXP'), 'DXR': ('HSK', 'BHF'), 'TKN': ('LPJ', 'VLS'), 'JMC': ('JCT', 'SBD'), 'XGR': ('VGD', 'PVC'), 'NDR': ('XTB', 'DXG'), 'TSX': ('RRR', 'DBB'), 'DNR': ('SLL', 'FPC'), 'QMX': ('HSV', 'JQV'), 'VMS': ('CFS', 'PJK'), 'JNX': ('RKV', 'BCK'), 'LPJ': ('HVL', 'SDC'), 'GHD': ('GDT', 'NKL'), 'BMM': ('XVL', 'SJB'), 'DFR': ('QCB', 'JRD'), 'BQV': ('XTF', 'FRM'), 'TMB': ('NTK', 'NPR'), 'KDC': ('CQD', 'DDQ'), 'LQX': ('DXR', 'MQP'), 'SLV': ('FKG', 'MQG'), 'NGP': ('FVH', 'FVH'), 'NLS': ('LFP', 'FQF'), 'GSS': ('NSB', 'VVR'), 'JTT': ('XFB', 'MQB'), 'MKN': ('QHK', 'XGL'), 'TKV': ('FTJ', 'BRB'), 'KHH': ('DBB', 'RRR'), 'QKC': ('JQL', 'SJJ'), 'BVV': ('GVQ', 'LCP'), 'VTB': ('XGR', 'LCL'), 'TGR': ('CGV', 'TKV'), 'QVM': ('SGD', 'QXN'), 'DVM': ('QSD', 'XVD'), 'XRT': ('PHB', 'QMX'), 'NTK': ('CVB', 'QGV'), 'MQB': ('FCT', 'JCS'), 'GCR': ('TSN', 'VHL'), 'HDC': ('GSH', 'GSH'), 'XBR': ('DQG', 'CMF'), 'XDZ': ('LHB', 'FLJ'), 'JNV': ('TSB', 'FSJ'), 'TSB': ('NDK', 'GVT'), 'RNM': ('QDT', 'DDC'), 'NXL': ('JGD', 'HNM'), 'JGD': ('JXL', 'PCQ'), 'MRP': ('CMB', 'BSP'), 'PFB': ('RGM', 'VJQ'), 'GFQ': ('FRL', 'KHJ'), 'VDC': ('RCF', 'MCF'), 'XNV': ('MDL', 'TBB'), 'TFS': ('NNH', 'KST'), 'DNV': ('XJG', 'BXP'), 'LBM': ('JVS', 'CGX'), 'TBB': ('RKF', 'BQM'), 'VSF': ('BLL', 'HCN'), 'VJJ': ('LPJ', 'VLS'), 'BSV': ('HDF', 'NSX'), 'JHP': ('LMP', 'PHK'), 'XJG': ('VTL', 'SSG'), 'VPM': ('KFG', 'VMQ'), 'MMS': ('MPR', 'HJJ'), 'HTH': ('GSS', 'SVJ'), 'HPG': ('JQJ', 'TKR'), 'JCT': ('DDB', 'CKX'), 'TVL': ('FLJ', 'LHB'), 'FJK': ('NLN', 'QHV'), 'DRD': ('GGF', 'SLT'), 'XBB': ('PVG', 'KSH'), 'JGX': ('MNF', 'VFD'), 'SBD': ('DDB', 'CKX'), 'NFB': ('GSH', 'SHV'), 'HBM': ('CQS', 'RLQ'), 'VSL': ('VSR', 'JMN'), 'QBK': ('RNT', 'NTX'), 'TMT': ('BVH', 'SCN'), 'MQS': ('FHL', 'QBP'), 'GVR': ('MMK', 'QFN'), 'KPH': ('RNG', 'JST'), 'NPG': ('VRH', 'HGS'), 'CHR': ('VPM', 'CLV'), 'JTJ': ('VPM', 'CLV'), 'SGD': ('LXP', 'KBL'), 'FXR': ('BVH', 'SCN'), 'FKG': ('GSV', 'GTK'), 'XFJ': ('KQT', 'VMG'), 'HSV': ('DCR', 'HJB'), 'QVK': ('NBR', 'DRD'), 'MGM': ('FRL', 'KHJ'), 'FRL': ('PNB', 'DSL'), 'VCD': ('VSX', 'DDR'), 'QCR': ('DFJ', 'VQQ'), 'RSP': ('GJR', 'BSR'), 'NFR': ('KVS', 'CLH'), 'FQQ': ('JNJ', 'RFG'), 'GLF': ('MBG', 'RKX'), 'HPT': ('RXG', 'NSP'), 'PLF': ('PCX', 'FVV'), 'VDQ': ('VSQ', 'LTB'), 'NGM': ('LGB', 'VDS'), 'LNT': ('VJS', 'GVP'), 'SJV': ('HXX', 'VTN'), 'QNT': ('KLF', 'QJL'), 'DHR': ('XGD', 'KJC'), 'HJB': ('TPB', 'BFK'), 'CHL': ('NKL', 'GDT'), 'NSS': ('VGJ', 'LCV'), 'LCL': ('PVC', 'VGD'), 'KST': ('LTV', 'NTV'), 'DDR': ('RKG', 'VDM'), 'JXB': ('NQC', 'DNJ'), 'LLZ': ('RRK', 'GLG'), 'TKM': ('DCT', 'CPK'), 'GXG': ('VTB', 'CCF'), 'BJC': ('TKN', 'VJJ'), 'GTN': ('VJJ', 'TKN'), 'RBC': ('QRX', 'XNN'), 'JVP': ('NSP', 'RXG'), 'PMG': ('QRX', 'XNN'), 'FXX': ('VPV', 'RFH'), 'JXV': ('QQM', 'KVV'), 'BTX': ('MTL', 'HNB'), 'BVG': ('VXM', 'NXL'), 'JVC': ('LCV', 'VGJ'), 'LJV': ('CHL', 'GHD'), 'PRK': ('BLL', 'HCN'), 'MHC': ('KVG', 'KMG'), 'MQG': ('GTK', 'GSV'), 'RCD': ('JGH', 'MNS'), 'FRR': ('TDV', 'GGV'), 'HBH': ('GBR', 'DSF'), 'HSK': ('PLF', 'DPV'), 'DFQ': ('RJT', 'MQF'), 'PHK': ('HGJ', 'GNN'), 'RHK': ('DHV', 'HFG'), 'SQG': ('FCP', 'PDM'), 'VFS': ('SPD', 'PFM'), 'TPD': ('XSS', 'BMK'), 'PQV': ('CJH', 'QBR'), 'GDL': ('GCR', 'KTX'), 'JXC': ('NXL', 'VXM'), 'MRV': ('FNH', 'VQM'), 'TVM': ('FCP', 'PDM'), 'HKL': ('LSR', 'BRQ'), 'TQH': ('FTG', 'TPN'), 'FTJ': ('XBR', 'LNR'), 'KVG': ('PJJ', 'FDQ'), 'LMP': ('HGJ', 'GNN'), 'SVJ': ('NSB', 'VVR'), 'XNN': ('JKR', 'FFV'), 'VXS': ('LJV', 'VHG'), 'FVH': ('FML', 'RTR'), 'LMN': ('XXH', 'XXH'), 'QJD': ('PGJ', 'PGJ'), 'KMF': ('CVF', 'TRC'), 'XVD': ('XTT', 'VSL'), 'PMT': ('GML', 'DPT'), 'DBV': ('TPD', 'TST'), 'STB': ('VHR', 'DHM'), 'HJJ': ('PJV', 'HLV'), 'GJC': ('GDS', 'FDL'), 'PGH': ('PGJ', 'LLZ'), 'MBB': ('JCX', 'NRH'), 'BVX': ('JHP', 'VRP'), 'HPR': ('GPM', 'BMM'), 'QXN': ('KBL', 'LXP'), 'VRH': ('NFR', 'BGS'), 'TKR': ('HKT', 'NLD'), 'KHK': ('DNV', 'MBP'), 'LCP': ('MXM', 'HXP'), 'BJM': ('XLV', 'XRG'), 'NNN': ('BNH', 'FRP'), 'NTX': ('STG', 'JCD'), 'FMM': ('FFX', 'JCH'), 'VPC': ('MTL', 'HNB'), 'FKC': ('XDD', 'TTL'), 'XHB': ('KHK', 'RCM'), 'HRB': ('QVK', 'NBN'), 'FPC': ('CPR', 'GQP'), 'STA': ('BVF', 'CNF'), 'VPQ': ('QPK', 'FNV'), 'RDD': ('FKG', 'MQG'), 'AAA': ('MCS', 'XCG'), 'VLS': ('HVL', 'SDC'), 'JCX': ('CJM', 'KHS'), 'GNN': ('FQL', 'BSV'), 'XGD': ('PQK', 'BXJ'), 'NDK': ('CLT', 'MHC'), 'XLV': ('HQS', 'KTL'), 'DGQ': ('CKR', 'VBF'), 'VRP': ('LMP', 'PHK'), 'GTK': ('BDF', 'CCK'), 'BKP': ('RSR', 'BNN'), 'CFS': ('GMM', 'QLH'), 'SFG': ('KMH', 'DKD'), 'TTL': ('HKL', 'DGF'), 'CHB': ('MFC', 'MFC'), 'HXP': ('JBP', 'DGQ'), 'SPD': ('GFK', 'SXN'), 'LLJ': ('MBJ', 'MBB'), 'JRD': ('QGT', 'XMV'), 'HQS': ('LFH', 'TMF'), 'CVB': ('CCL', 'PFB'), 'QBF': ('PJK', 'CFS'), 'QJL': ('HRD', 'CMX'), 'QFX': ('PHB', 'QMX'), 'NSB': ('QGG', 'HKQ'), 'HCV': ('CHR', 'JTJ'), 'RMM': ('BCK', 'RKV'), 'FRT': ('CFL', 'SHK'), 'QPC': ('BRJ', 'VFS'), 'RXG': ('TKX', 'BJM'), 'STG': ('PNF', 'GVR'), 'LTC': ('JRD', 'QCB'), 'GVQ': ('MXM', 'HXP'), 'KTL': ('TMF', 'LFH'), 'DGF': ('LSR', 'BRQ'), 'CLT': ('KMG', 'KVG'), 'KBH': ('JGX', 'BQS'), 'NBM': ('KQT', 'VMG'), 'XMN': ('HQM', 'NVS'), 'HCN': ('TPJ', 'LJK'), 'TDS': ('RJT', 'MQF'), 'LTB': ('DGL', 'KQH'), 'VNQ': ('NNT', 'LBM'), 'BLQ': ('KJC', 'XGD'), 'GDS': ('NXS', 'CTR'), 'FRM': ('GVX', 'LBN'), 'GML': ('QNT', 'MHM'), 'QNC': ('SBD', 'JCT'), 'RQT': ('TQB', 'GXG'), 'GGV': ('XVV', 'BNB'), 'HFG': ('JKB', 'JXB'), 'VJQ': ('NPG', 'PPK'), 'GDT': ('NSH', 'PMX'), 'VMF': ('BRM', 'FQD'), 'HKQ': ('QCX', 'FLV'), 'VVR': ('HKQ', 'QGG'), 'JQL': ('TQR', 'HLB'), 'BXP': ('SSG', 'VTL'), 'KBS': ('LJQ', 'NGM'), 'BNH': ('DFR', 'LTC'), 'BSR': ('QBF', 'VMS'), 'RFG': ('GCH', 'FXF'), 'XGZ': ('CNF', 'BVF'), 'VMG': ('KKT', 'VKD'), 'JCH': ('FJJ', 'MMF'), 'QHX': ('CHB', 'MXF'), 'FXL': ('GSS', 'SVJ'), 'CCL': ('VJQ', 'RGM'), 'GMM': ('RDD', 'SLV'), 'FFN': ('VXS', 'DMF'), 'CFK': ('FMM', 'DNH'), 'BKT': ('JFV', 'MVQ'), 'HTJ': ('HFQ', 'KJH'), 'BQM': ('XMR', 'TFS'), 'LJK': ('SHN', 'MFB'), 'CGX': ('JPF', 'TMB'), 'PHB': ('HSV', 'JQV'), 'FVS': ('MCF', 'RCF'), 'LFG': ('JST', 'RNG'), 'FLC': ('XXH', 'PRN'), 'JFC': ('GBR', 'DSF'), 'FRP': ('LTC', 'DFR'), 'MTL': ('FBJ', 'RSP'), 'GLG': ('QCR', 'VFT'), 'MNF': ('LCH', 'QBK'), 'NVP': ('HBH', 'JFC'), 'CJS': ('TNT', 'RNF'), 'QCX': ('MBS', 'BVX'), 'KJC': ('BXJ', 'PQK'), 'TMZ': ('RTR', 'FML'), 'QGG': ('FLV', 'QCX'), 'XSS': ('HPR', 'MRT'), 'RNG': ('PST', 'SRQ'), 'KKM': ('PJC', 'KBT'), 'FQM': ('SGD', 'QXN'), 'QDT': ('PHQ', 'QHX'), 'DPT': ('MHM', 'QNT'), 'KFG': ('VBX', 'KDC'), 'NPN': ('JXC', 'BVG'), 'RNT': ('STG', 'JCD'), 'PNF': ('QFN', 'MMK'), 'MPS': ('FVH', 'TMZ'), 'LHB': ('VVN', 'CKN'), 'FCP': ('XBB', 'BFC'), 'CKX': ('FXX', 'LQN'), 'XLX': ('GCR', 'KTX'), 'QFN': ('NSS', 'JVC'), 'FML': ('BPX', 'KDV'), 'CPP': ('QSG', 'NLS'), 'FQL': ('HDF', 'NSX'), 'GVT': ('CLT', 'MHC'), 'NDN': ('MBJ', 'MBB'), 'GPA': ('GLG', 'RRK'), 'PGB': ('XFX', 'RHX'), 'RRC': ('VQM', 'FNH'), 'MQP': ('HSK', 'BHF'), 'GLT': ('XFP', 'JMV'), 'GVN': ('JTT', 'SPH'), 'CPK': ('BBT', 'PXB'), 'KCX': ('FSQ', 'MQS'), 'KQH': ('JMT', 'CNQ'), 'JQV': ('DCR', 'HJB'), 'CVF': ('HRX', 'JCL'), 'TQG': ('NGP', 'NGP'), 'GVP': ('BJK', 'NMS'), 'NVS': ('LFR', 'LDR'), 'NKL': ('PMX', 'NSH'), 'SKF': ('KJH', 'HFQ'), 'NSP': ('BJM', 'TKX'), 'JHM': ('VDB', 'VCD'), 'DPV': ('PCX', 'FVV'), 'LLL': ('KHK', 'RCM'), 'XVK': ('VFS', 'BRJ'), 'JNH': ('JFC', 'HBH'), 'HGS': ('BGS', 'NFR'), 'VMQ': ('VBX', 'KDC'), 'DSM': ('MNS', 'JGH'), 'HXX': ('SKF', 'HTJ'), 'LXP': ('BJH', 'FJS'), 'TVQ': ('CQV', 'FRR'), 'RJT': ('JXR', 'SPJ'), 'RRR': ('RXP', 'GRF'), 'TKX': ('XLV', 'XRG'), 'MVP': ('CMQ', 'GLF'), 'BGK': ('VDB', 'VCD'), 'TQV': ('MVT', 'TNC'), 'DDB': ('LQN', 'FXX'), 'FQN': ('HGT', 'ZZZ'), 'DQG': ('VCK', 'NJF'), 'MRT': ('GPM', 'BMM'), 'QGV': ('CCL', 'PFB'), 'GRM': ('CVF', 'TRC'), 'FLJ': ('VVN', 'CKN'), 'BRM': ('LLJ', 'NDN'), 'NQF': ('FTX', 'TJR'), 'JKB': ('NQC', 'DNJ'), 'CMQ': ('RKX', 'MBG'), 'FLR': ('XNV', 'KNL'), 'TPF': ('RLQ', 'CQS'), 'JMT': ('XRT', 'QFX'), 'MVS': ('PDG', 'DHQ'), 'BRQ': ('MNN', 'SRL'), 'QDG': ('FTX', 'FTX'), 'NLN': ('TGR', 'SLB'), 'PHQ': ('CHB', 'CHB'), 'QRX': ('JKR', 'FFV'), 'FJS': ('LVV', 'DVM'), 'JDT': ('DPT', 'GML'), 'HNB': ('FBJ', 'RSP'), 'KPL': ('JMC', 'QNC'), 'LFR': ('MCR', 'BQV'), 'JPF': ('NTK', 'NPR'), 'VHG': ('GHD', 'CHL'), 'KQT': ('KKT', 'VKD'), 'LKA': ('XTB', 'DXG'), 'JXL': ('GCM', 'RHK'), 'FQD': ('LLJ', 'NDN'), 'CCF': ('XGR', 'LCL'), 'FNV': ('LQX', 'KMS'), 'MBS': ('JHP', 'VRP'), 'RGM': ('NPG', 'PPK'), 'CQS': ('TTB', 'CJS'), 'DFJ': ('KVL', 'RJG'), 'RQQ': ('LGQ', 'HPV'), 'PBF': ('STB', 'BXV'), 'NBT': ('QHK', 'XGL'), 'PRN': ('PVT', 'JPC'), 'CBF': ('FKC', 'KKL'), 'PVC': ('DFQ', 'TDS'), 'THC': ('FTG', 'TPN'), 'LCV': ('GJC', 'CKK'), 'SJB': ('QJD', 'PGH'), 'HNS': ('TMT', 'FXR'), 'TJR': ('VVM', 'XGZ'), 'PQK': ('STP', 'CMR'), 'MBG': ('CCX', 'FJK'), 'KKL': ('TTL', 'XDD'), 'PXB': ('LLL', 'XHB'), 'RTR': ('KDV', 'BPX'), 'PJC': ('DTV', 'MVS'), 'DDQ': ('TFD', 'GSR'), 'QCB': ('QGT', 'XMV'), 'MBD': ('NGM', 'LJQ'), 'VTD': ('BGK', 'JHM'), 'CJH': ('RNM', 'JRQ'), 'VHR': ('CBF', 'XCQ'), 'QPK': ('KMS', 'LQX'), 'BBJ': ('FXR', 'TMT'), 'JCD': ('GVR', 'PNF'), 'NBR': ('SLT', 'GGF'), 'PNJ': ('HRK', 'GKX'), 'VXM': ('HNM', 'JGD'), 'JFV': ('RQQ', 'TKD'), 'FHL': ('JSL', 'DNR'), 'VQM': ('NNN', 'LSM'), 'CKN': ('SHF', 'XMN'), 'NMS': ('SPG', 'QKC'), 'FNQ': ('JHK', 'TFV'), 'SSG': ('FKV', 'BPG'), 'XFB': ('JCS', 'FCT'), 'RSR': ('PBF', 'HCX'), 'KBL': ('FJS', 'BJH'), 'HKT': ('PVR', 'VTD'), 'CPR': ('FSN', 'JRH'), 'BDF': ('HGK', 'KKM'), 'KVP': ('NGP', 'MPS'), 'LNV': ('VJS', 'GVP'), 'SXN': ('PMT', 'JDT'), 'HGT': ('MCS', 'XCG'), 'TNC': ('TBL', 'SJV'), 'KKT': ('TQG', 'TQG'), 'KTX': ('VHL', 'TSN'), 'XFX': ('GXX', 'HRB'), 'VQQ': ('RJG', 'KVL'), 'KHJ': ('DSL', 'PNB'), 'GCH': ('NRR', 'NKB'), 'VPV': ('SSB', 'SFG'), 'KMS': ('MQP', 'DXR'), 'QPL': ('JJM', 'NDS'), 'FVV': ('MRP', 'TRP'), 'MQV': ('RSR', 'BNN'), 'XGF': ('SQB', 'VPQ'), 'DDC': ('PHQ', 'QHX'), 'PQH': ('FSJ', 'TSB'), 'SGV': ('VSQ', 'LTB'), 'SHF': ('HQM', 'NVS'), 'CCX': ('NLN', 'QHV'), 'SPG': ('JQL', 'SJJ'), 'HGJ': ('FQL', 'BSV'), 'MNN': ('QVM', 'FQM'), 'PJJ': ('GQK', 'HQR'), 'TDV': ('BNB', 'XVV'), 'PNB': ('BMD', 'GVK'), 'GQR': ('MKN', 'NBT'), 'MPR': ('HLV', 'PJV'), 'JSL': ('FPC', 'SLL'), 'QHK': ('RRC', 'MRV'), 'FSN': ('CFK', 'QQC'), 'HFQ': ('KPH', 'LFG'), 'BRJ': ('PFM', 'SPD'), 'PJR': ('HLD', 'MQN'), 'KVJ': ('GVQ', 'LCP'), 'VCK': ('BBF', 'DVJ'), 'LSR': ('SRL', 'MNN'), 'HVL': ('QDG', 'QDG'), 'KBT': ('DTV', 'MVS'), 'GGF': ('TXF', 'FFT'), 'DKD': ('TVM', 'SQG'), 'DNJ': ('LMN', 'FLC'), 'NNH': ('NTV', 'LTV'), 'TRC': ('JCL', 'HRX'), 'BML': ('HJJ', 'MPR'), 'BJH': ('LVV', 'DVM'), 'QHQ': ('JGX', 'BQS'), 'PMX': ('MDS', 'THH'), 'JJL': ('KBS', 'MBD'), 'BFC': ('PVG', 'KSH'), 'HKP': ('BML', 'MMS'), 'FNT': ('KVJ', 'BVV'), 'JKR': ('KVC', 'NPN'), 'VBR': ('BVV', 'KVJ'), 'BCJ': ('QBR', 'CJH'), 'FPB': ('CPK', 'DCT'), 'XMV': ('FFN', 'KFQ'), 'CQD': ('TFD', 'GSR'), 'DFA': ('FML', 'RTR'), 'KMH': ('TVM', 'SQG'), 'JMN': ('RMM', 'JNX'), 'JDH': ('MVT', 'TNC'), 'GPM': ('XVL', 'XVL'), 'DHQ': ('PPP', 'HKP'), 'XTF': ('GVX', 'LBN'), 'RBJ': ('JFV', 'MVQ'), 'XXH': ('PVT', 'PVT'), 'RJP': ('HNS', 'BBJ'), 'JRQ': ('QDT', 'DDC'), 'KMG': ('PJJ', 'FDQ'), 'MFK': ('NMN', 'GVN'), 'KSH': ('JJR', 'JHJ'), 'XTT': ('VSR', 'JMN'), 'RHX': ('HRB', 'GXX'), 'VSQ': ('DGL', 'KQH'), 'GJR': ('VMS', 'QBF'), 'VMN': ('JHK', 'TFV'), 'HTS': ('KNL', 'XNV'), 'LVV': ('QSD', 'XVD'), 'BHF': ('PLF', 'DPV'), 'QLH': ('RDD', 'SLV'), 'VDS': ('JNV', 'PQH'), 'RCF': ('MQV', 'BKP'), 'LDR': ('MCR', 'BQV'), 'VTN': ('SKF', 'HTJ'), 'TPN': ('MNK', 'GLT'), 'QVV': ('CPP', 'JJT'), 'KLF': ('HRD', 'CMX'), 'JHK': ('FNT', 'VBR'), 'DSF': ('PGB', 'CCS'), 'NMN': ('SPH', 'JTT'), 'SNH': ('GFQ', 'MGM'), 'CFL': ('VVL', 'LLT'), 'MVQ': ('TKD', 'RQQ'), 'KDV': ('PGD', 'JJL'), 'KHS': ('HCV', 'FDS'), 'GVK': ('KPL', 'CRR'), 'NLD': ('PVR', 'VTD'), 'BBF': ('DTM', 'RJP'), 'SDC': ('QDG', 'NQF'), 'SLL': ('CPR', 'GQP'), 'FJJ': ('VDQ', 'SGV'), 'MFB': ('TVQ', 'SMD'), 'JNJ': ('FXF', 'GCH'), 'VFJ': ('QQM', 'KVV'), 'GVX': ('RFM', 'KCX'), 'PCQ': ('RHK', 'GCM'), 'CGV': ('FTJ', 'BRB'), 'XDD': ('HKL', 'DGF'), 'CLH': ('VSF', 'PRK'), 'QBR': ('JRQ', 'RNM'), 'BNN': ('PBF', 'HCX'), 'DNH': ('FFX', 'JCH'), 'BSP': ('FQQ', 'PDQ'), 'TFV': ('FNT', 'VBR'), 'GCM': ('HFG', 'DHV'), 'CMB': ('PDQ', 'FQQ'), 'FXF': ('NRR', 'NKB'), 'VSR': ('RMM', 'JNX'), 'NSX': ('GQR', 'NVD'), 'GRF': ('RBC', 'PMG'), 'JRH': ('CFK', 'QQC'), 'FCT': ('VDP', 'SNH'), 'FSQ': ('QBP', 'FHL'), 'MBP': ('XJG', 'BXP'), 'FSJ': ('GVT', 'NDK'), 'NVD': ('NBT', 'MKN'), 'NRR': ('LTT', 'TRQ'), 'MCF': ('MQV', 'BKP'), 'SQB': ('QPK', 'FNV'), 'HPV': ('QPC', 'XVK'), 'PFM': ('SXN', 'GFK'), 'TTB': ('TNT', 'RNF'), 'HRD': ('FNQ', 'VMN'), 'PGJ': ('GLG', 'RRK'), 'XCQ': ('KKL', 'FKC'), 'CQV': ('TDV', 'GGV'), 'CJM': ('FDS', 'HCV'), 'LTT': ('JVR', 'QPL'), 'BVH': ('GTN', 'BJC'), 'STP': ('LNV', 'LNT'), 'QGT': ('FFN', 'KFQ'), 'VTL': ('FKV', 'BPG'), 'MNK': ('JMV', 'XFP'), 'VXQ': ('NBM', 'XFJ'), 'KKA': ('FLJ', 'LHB'), 'SRQ': ('KBH', 'QHQ'), 'VSX': ('VDM', 'RKG'), 'CQM': ('CFL', 'SHK'), 'PNN': ('JQJ', 'TKR'), 'KVV': ('TQH', 'THC'), 'MXM': ('JBP', 'DGQ'), 'TSN': ('PCV', 'MFK'), 'XRG': ('HQS', 'KTL'), 'PVT': ('TVL', 'TVL'), 'LFP': ('HDC', 'HDC'), 'CCK': ('KKM', 'HGK'), 'SHK': ('VVL', 'LLT'), 'RLQ': ('TTB', 'CJS'), 'BPG': ('FRT', 'CQM'), 'TSS': ('RQT', 'BXT'), 'CCS': ('RHX', 'XFX'), 'NQC': ('LMN', 'FLC'), 'BXT': ('GXG', 'TQB'), 'PJV': ('TSS', 'GLV'), 'NSH': ('MDS', 'THH'), 'NDS': ('XHG', 'PNJ'), 'TFD': ('DHR', 'BLQ'), 'PDQ': ('JNJ', 'RFG'), 'VGD': ('DFQ', 'TDS'), 'DCT': ('PXB', 'BBT'), 'LCH': ('NTX', 'RNT'), 'MFC': ('HGT', 'HGT'), 'DTM': ('HNS', 'BBJ'), 'FDS': ('CHR', 'JTJ'), 'BLL': ('LJK', 'TPJ'), 'GXX': ('QVK', 'NBN'), 'JMV': ('XXT', 'VXQ'), 'LSM': ('BNH', 'FRP'), 'JHJ': ('PNN', 'HPG'), 'RKX': ('FJK', 'CCX'), 'RXP': ('PMG', 'RBC'), 'RJG': ('GQN', 'VMF'), 'HCX': ('BXV', 'STB'), 'PDM': ('BFC', 'XBB'), 'SJJ': ('HLB', 'TQR'), 'BFK': ('FLR', 'HTS'), 'VJS': ('NMS', 'BJK'), 'CNF': ('XXG', 'MRB'), 'VDM': ('PQV', 'BCJ'), 'QHR': ('HLD', 'MQN'), 'SJC': ('BKT', 'RBJ'), 'RCM': ('MBP', 'DNV'), 'QBP': ('DNR', 'JSL'), 'MMF': ('SGV', 'VDQ'), 'VGJ': ('CKK', 'GJC'), 'VBX': ('DDQ', 'CQD'), 'GQP': ('JRH', 'FSN'), 'BCK': ('PJR', 'QHR'), 'VFT': ('DFJ', 'VQQ'), 'CTR': ('TKM', 'FPB'), 'NPR': ('QGV', 'CVB'), 'SPJ': ('RCD', 'DSM'), 'NNT': ('CGX', 'JVS'), 'MCR': ('FRM', 'XTF'), 'TBL': ('VTN', 'HXX'), 'GSR': ('DHR', 'BLQ'), 'PPK': ('VRH', 'HGS'), 'PVG': ('JHJ', 'JJR'), 'TXF': ('KMF', 'GRM'), 'TKD': ('HPV', 'LGQ'), 'RNF': ('VNQ', 'FNL'), 'THH': ('JXV', 'VFJ'), 'GBR': ('PGB', 'CCS'), 'LGB': ('PQH', 'JNV'), 'DHM': ('XCQ', 'CBF'), 'FKV': ('CQM', 'FRT'), 'SMD': ('CQV', 'FRR'), 'HNM': ('JXL', 'PCQ'), 'JVR': ('NDS', 'JJM'), 'KJH': ('KPH', 'LFG'), 'XVL': ('QJD', 'QJD')}\n",
      "Part 1: 20569\n",
      "{'FTX': ('VVM', 'VVM'), 'LNR': ('DQG', 'CMF'), 'NXS': ('TKM', 'FPB'), 'FQF': ('HDC', 'NFB'), 'SPH': ('MQB', 'XFB'), 'FDL': ('CTR', 'NXS'), 'DMF': ('VHG', 'LJV'), 'JBP': ('CKR', 'VBF'), 'MMK': ('JVC', 'NSS'), 'LLT': ('MVP', 'QFC'), 'VVN': ('SHF', 'XMN'), 'CRR': ('QNC', 'JMC'), 'RRK': ('QCR', 'VFT'), 'JXR': ('DSM', 'RCD'), 'BMD': ('KPL', 'CRR'), 'HQM': ('LDR', 'LFR'), 'VDP': ('MGM', 'GFQ'), 'HLV': ('GLV', 'TSS'), 'LJQ': ('VDS', 'LGB'), 'DVJ': ('RJP', 'DTM'), 'VHL': ('MFK', 'PCV'), 'LFH': ('BTX', 'VPC'), 'NBN': ('NBR', 'DRD'), 'NKB': ('TRQ', 'LTT'), 'QPM': ('VPQ', 'SQB'), 'VFD': ('QBK', 'LCH'), 'HRX': ('KJL', 'SJC'), 'RKF': ('TFS', 'XMR'), 'GQK': ('FVS', 'VDC'), 'DTV': ('DHQ', 'PDG'), 'MHM': ('KLF', 'QJL'), 'GTM': ('CPP', 'JJT'), 'LBN': ('RFM', 'KCX'), 'JJR': ('PNN', 'HPG'), 'MDL': ('BQM', 'RKF'), 'DSL': ('BMD', 'GVK'), 'MQF': ('JXR', 'SPJ'), 'VBF': ('QVV', 'GTM'), 'MBJ': ('NRH', 'JCX'), 'NRH': ('CJM', 'KHS'), 'SCN': ('BJC', 'GTN'), 'HRK': ('KHH', 'TSX'), 'MCS': ('TPF', 'HBM'), 'BQS': ('VFD', 'MNF'), 'TPB': ('HTS', 'FLR'), 'XVV': ('XLX', 'GDL'), 'HGK': ('PJC', 'KBT'), 'MXF': ('MFC', 'FQN'), 'JVS': ('TMB', 'JPF'), 'RFM': ('FSQ', 'MQS'), 'XCG': ('TPF', 'HBM'), 'CMR': ('LNV', 'LNT'), 'BVF': ('XXG', 'MRB'), 'KFQ': ('DMF', 'VXS'), 'KVS': ('VSF', 'PRK'), 'VVL': ('QFC', 'MVP'), 'BNB': ('GDL', 'XLX'), 'BRB': ('LNR', 'XBR'), 'BJK': ('QKC', 'SPG'), 'FDQ': ('HQR', 'GQK'), 'JPC': ('TVL', 'XDZ'), 'JCL': ('SJC', 'KJL'), 'BBT': ('LLL', 'XHB'), 'FNH': ('NNN', 'LSM'), 'QQM': ('THC', 'TQH'), 'VDB': ('DDR', 'VSX'), 'MNS': ('DPG', 'DBV'), 'JCS': ('SNH', 'VDP'), 'BGS': ('KVS', 'CLH'), 'MDS': ('JXV', 'VFJ'), 'JJM': ('XHG', 'PNJ'), 'NJF': ('BBF', 'DVJ'), 'GKX': ('KHH', 'TSX'), 'BXV': ('DHM', 'VHR'), 'CMF': ('NJF', 'VCK'), 'LQN': ('VPV', 'RFH'), 'TST': ('BMK', 'XSS'), 'SSB': ('KMH', 'DKD'), 'RFH': ('SSB', 'SFG'), 'XXG': ('TQV', 'JDH'), 'TNT': ('FNL', 'VNQ'), 'HDF': ('NVD', 'GQR'), 'MQN': ('HTH', 'FXL'), 'QSG': ('LFP', 'FQF'), 'CKK': ('GDS', 'FDL'), 'XXT': ('NBM', 'XFJ'), 'PDG': ('PPP', 'HKP'), 'FLV': ('MBS', 'BVX'), 'HTZ': ('DXG', 'XTB'), 'DPG': ('TST', 'TPD'), 'DCR': ('BFK', 'TPB'), 'PGD': ('MBD', 'KBS'), 'FTG': ('GLT', 'MNK'), 'GFK': ('PMT', 'JDT'), 'HQR': ('FVS', 'VDC'), 'VKD': ('TQG', 'KVP'), 'KVL': ('GQN', 'VMF'), 'SLT': ('FFT', 'TXF'), 'ZZZ': ('XCG', 'MCS'), 'JJT': ('QSG', 'NLS'), 'XGL': ('RRC', 'MRV'), 'DHV': ('JKB', 'JXB'), 'FFV': ('NPN', 'KVC'), 'LTV': ('XGF', 'QPM'), 'MRB': ('JDH', 'TQV'), 'QHV': ('SLB', 'TGR'), 'HLD': ('FXL', 'HTH'), 'GLV': ('RQT', 'BXT'), 'QFC': ('GLF', 'CMQ'), 'SRL': ('QVM', 'FQM'), 'TMF': ('BTX', 'VPC'), 'JST': ('PST', 'SRQ'), 'FFX': ('FJJ', 'MMF'), 'FNL': ('NNT', 'LBM'), 'MVT': ('SJV', 'TBL'), 'SLB': ('TKV', 'CGV'), 'TQB': ('CCF', 'VTB'), 'NTV': ('QPM', 'XGF'), 'DXG': ('NVP', 'JNH'), 'CNQ': ('QFX', 'XRT'), 'VVM': ('BVF', 'CNF'), 'XHG': ('HRK', 'GKX'), 'PCV': ('GVN', 'NMN'), 'XMR': ('KST', 'NNH'), 'GQN': ('BRM', 'FQD'), 'CLV': ('VMQ', 'KFG'), 'TQR': ('HPT', 'JVP'), 'JGH': ('DPG', 'DBV'), 'BPX': ('JJL', 'PGD'), 'GSH': ('NDR', 'NDR'), 'TRP': ('BSP', 'CMB'), 'QSD': ('VSL', 'XTT'), 'DGL': ('CNQ', 'JMT'), 'FFT': ('GRM', 'KMF'), 'SHV': ('NDR', 'HTZ'), 'TPJ': ('MFB', 'SHN'), 'SHN': ('TVQ', 'SMD'), 'BXJ': ('CMR', 'STP'), 'RKV': ('PJR', 'QHR'), 'TRQ': ('JVR', 'QPL'), 'CKR': ('GTM', 'QVV'), 'QQC': ('FMM', 'DNH'), 'PPP': ('MMS', 'BML'), 'XFP': ('VXQ', 'XXT'), 'KJL': ('RBJ', 'BKT'), 'KVC': ('JXC', 'BVG'), 'KNL': ('MDL', 'TBB'), 'PJK': ('GMM', 'QLH'), 'PST': ('KBH', 'QHQ'), 'HLB': ('HPT', 'JVP'), 'RKG': ('BCJ', 'PQV'), 'GSV': ('BDF', 'CCK'), 'FBJ': ('BSR', 'GJR'), 'BMK': ('HPR', 'MRT'), 'PVR': ('BGK', 'JHM'), 'PCX': ('MRP', 'TRP'), 'JQJ': ('HKT', 'NLD'), 'CMX': ('VMN', 'FNQ'), 'LGQ': ('QPC', 'XVK'), 'XTB': ('JNH', 'NVP'), 'DBB': ('GRF', 'RXP'), 'DXR': ('HSK', 'BHF'), 'TKN': ('LPJ', 'VLS'), 'JMC': ('JCT', 'SBD'), 'XGR': ('VGD', 'PVC'), 'NDR': ('XTB', 'DXG'), 'TSX': ('RRR', 'DBB'), 'DNR': ('SLL', 'FPC'), 'QMX': ('HSV', 'JQV'), 'VMS': ('CFS', 'PJK'), 'JNX': ('RKV', 'BCK'), 'LPJ': ('HVL', 'SDC'), 'GHD': ('GDT', 'NKL'), 'BMM': ('XVL', 'SJB'), 'DFR': ('QCB', 'JRD'), 'BQV': ('XTF', 'FRM'), 'TMB': ('NTK', 'NPR'), 'KDC': ('CQD', 'DDQ'), 'LQX': ('DXR', 'MQP'), 'SLV': ('FKG', 'MQG'), 'NGP': ('FVH', 'FVH'), 'NLS': ('LFP', 'FQF'), 'GSS': ('NSB', 'VVR'), 'JTT': ('XFB', 'MQB'), 'MKN': ('QHK', 'XGL'), 'TKV': ('FTJ', 'BRB'), 'KHH': ('DBB', 'RRR'), 'QKC': ('JQL', 'SJJ'), 'BVV': ('GVQ', 'LCP'), 'VTB': ('XGR', 'LCL'), 'TGR': ('CGV', 'TKV'), 'QVM': ('SGD', 'QXN'), 'DVM': ('QSD', 'XVD'), 'XRT': ('PHB', 'QMX'), 'NTK': ('CVB', 'QGV'), 'MQB': ('FCT', 'JCS'), 'GCR': ('TSN', 'VHL'), 'HDC': ('GSH', 'GSH'), 'XBR': ('DQG', 'CMF'), 'XDZ': ('LHB', 'FLJ'), 'JNV': ('TSB', 'FSJ'), 'TSB': ('NDK', 'GVT'), 'RNM': ('QDT', 'DDC'), 'NXL': ('JGD', 'HNM'), 'JGD': ('JXL', 'PCQ'), 'MRP': ('CMB', 'BSP'), 'PFB': ('RGM', 'VJQ'), 'GFQ': ('FRL', 'KHJ'), 'VDC': ('RCF', 'MCF'), 'XNV': ('MDL', 'TBB'), 'TFS': ('NNH', 'KST'), 'DNV': ('XJG', 'BXP'), 'LBM': ('JVS', 'CGX'), 'TBB': ('RKF', 'BQM'), 'VSF': ('BLL', 'HCN'), 'VJJ': ('LPJ', 'VLS'), 'BSV': ('HDF', 'NSX'), 'JHP': ('LMP', 'PHK'), 'XJG': ('VTL', 'SSG'), 'VPM': ('KFG', 'VMQ'), 'MMS': ('MPR', 'HJJ'), 'HTH': ('GSS', 'SVJ'), 'HPG': ('JQJ', 'TKR'), 'JCT': ('DDB', 'CKX'), 'TVL': ('FLJ', 'LHB'), 'FJK': ('NLN', 'QHV'), 'DRD': ('GGF', 'SLT'), 'XBB': ('PVG', 'KSH'), 'JGX': ('MNF', 'VFD'), 'SBD': ('DDB', 'CKX'), 'NFB': ('GSH', 'SHV'), 'HBM': ('CQS', 'RLQ'), 'VSL': ('VSR', 'JMN'), 'QBK': ('RNT', 'NTX'), 'TMT': ('BVH', 'SCN'), 'MQS': ('FHL', 'QBP'), 'GVR': ('MMK', 'QFN'), 'KPH': ('RNG', 'JST'), 'NPG': ('VRH', 'HGS'), 'CHR': ('VPM', 'CLV'), 'JTJ': ('VPM', 'CLV'), 'SGD': ('LXP', 'KBL'), 'FXR': ('BVH', 'SCN'), 'FKG': ('GSV', 'GTK'), 'XFJ': ('KQT', 'VMG'), 'HSV': ('DCR', 'HJB'), 'QVK': ('NBR', 'DRD'), 'MGM': ('FRL', 'KHJ'), 'FRL': ('PNB', 'DSL'), 'VCD': ('VSX', 'DDR'), 'QCR': ('DFJ', 'VQQ'), 'RSP': ('GJR', 'BSR'), 'NFR': ('KVS', 'CLH'), 'FQQ': ('JNJ', 'RFG'), 'GLF': ('MBG', 'RKX'), 'HPT': ('RXG', 'NSP'), 'PLF': ('PCX', 'FVV'), 'VDQ': ('VSQ', 'LTB'), 'NGM': ('LGB', 'VDS'), 'LNT': ('VJS', 'GVP'), 'SJV': ('HXX', 'VTN'), 'QNT': ('KLF', 'QJL'), 'DHR': ('XGD', 'KJC'), 'HJB': ('TPB', 'BFK'), 'CHL': ('NKL', 'GDT'), 'NSS': ('VGJ', 'LCV'), 'LCL': ('PVC', 'VGD'), 'KST': ('LTV', 'NTV'), 'DDR': ('RKG', 'VDM'), 'JXB': ('NQC', 'DNJ'), 'LLZ': ('RRK', 'GLG'), 'TKM': ('DCT', 'CPK'), 'GXG': ('VTB', 'CCF'), 'BJC': ('TKN', 'VJJ'), 'GTN': ('VJJ', 'TKN'), 'RBC': ('QRX', 'XNN'), 'JVP': ('NSP', 'RXG'), 'PMG': ('QRX', 'XNN'), 'FXX': ('VPV', 'RFH'), 'JXV': ('QQM', 'KVV'), 'BTX': ('MTL', 'HNB'), 'BVG': ('VXM', 'NXL'), 'JVC': ('LCV', 'VGJ'), 'LJV': ('CHL', 'GHD'), 'PRK': ('BLL', 'HCN'), 'MHC': ('KVG', 'KMG'), 'MQG': ('GTK', 'GSV'), 'RCD': ('JGH', 'MNS'), 'FRR': ('TDV', 'GGV'), 'HBH': ('GBR', 'DSF'), 'HSK': ('PLF', 'DPV'), 'DFQ': ('RJT', 'MQF'), 'PHK': ('HGJ', 'GNN'), 'RHK': ('DHV', 'HFG'), 'SQG': ('FCP', 'PDM'), 'VFS': ('SPD', 'PFM'), 'TPD': ('XSS', 'BMK'), 'PQV': ('CJH', 'QBR'), 'GDL': ('GCR', 'KTX'), 'JXC': ('NXL', 'VXM'), 'MRV': ('FNH', 'VQM'), 'TVM': ('FCP', 'PDM'), 'HKL': ('LSR', 'BRQ'), 'TQH': ('FTG', 'TPN'), 'FTJ': ('XBR', 'LNR'), 'KVG': ('PJJ', 'FDQ'), 'LMP': ('HGJ', 'GNN'), 'SVJ': ('NSB', 'VVR'), 'XNN': ('JKR', 'FFV'), 'VXS': ('LJV', 'VHG'), 'FVH': ('FML', 'RTR'), 'LMN': ('XXH', 'XXH'), 'QJD': ('PGJ', 'PGJ'), 'KMF': ('CVF', 'TRC'), 'XVD': ('XTT', 'VSL'), 'PMT': ('GML', 'DPT'), 'DBV': ('TPD', 'TST'), 'STB': ('VHR', 'DHM'), 'HJJ': ('PJV', 'HLV'), 'GJC': ('GDS', 'FDL'), 'PGH': ('PGJ', 'LLZ'), 'MBB': ('JCX', 'NRH'), 'BVX': ('JHP', 'VRP'), 'HPR': ('GPM', 'BMM'), 'QXN': ('KBL', 'LXP'), 'VRH': ('NFR', 'BGS'), 'TKR': ('HKT', 'NLD'), 'KHK': ('DNV', 'MBP'), 'LCP': ('MXM', 'HXP'), 'BJM': ('XLV', 'XRG'), 'NNN': ('BNH', 'FRP'), 'NTX': ('STG', 'JCD'), 'FMM': ('FFX', 'JCH'), 'VPC': ('MTL', 'HNB'), 'FKC': ('XDD', 'TTL'), 'XHB': ('KHK', 'RCM'), 'HRB': ('QVK', 'NBN'), 'FPC': ('CPR', 'GQP'), 'STA': ('BVF', 'CNF'), 'VPQ': ('QPK', 'FNV'), 'RDD': ('FKG', 'MQG'), 'AAA': ('MCS', 'XCG'), 'VLS': ('HVL', 'SDC'), 'JCX': ('CJM', 'KHS'), 'GNN': ('FQL', 'BSV'), 'XGD': ('PQK', 'BXJ'), 'NDK': ('CLT', 'MHC'), 'XLV': ('HQS', 'KTL'), 'DGQ': ('CKR', 'VBF'), 'VRP': ('LMP', 'PHK'), 'GTK': ('BDF', 'CCK'), 'BKP': ('RSR', 'BNN'), 'CFS': ('GMM', 'QLH'), 'SFG': ('KMH', 'DKD'), 'TTL': ('HKL', 'DGF'), 'CHB': ('MFC', 'MFC'), 'HXP': ('JBP', 'DGQ'), 'SPD': ('GFK', 'SXN'), 'LLJ': ('MBJ', 'MBB'), 'JRD': ('QGT', 'XMV'), 'HQS': ('LFH', 'TMF'), 'CVB': ('CCL', 'PFB'), 'QBF': ('PJK', 'CFS'), 'QJL': ('HRD', 'CMX'), 'QFX': ('PHB', 'QMX'), 'NSB': ('QGG', 'HKQ'), 'HCV': ('CHR', 'JTJ'), 'RMM': ('BCK', 'RKV'), 'FRT': ('CFL', 'SHK'), 'QPC': ('BRJ', 'VFS'), 'RXG': ('TKX', 'BJM'), 'STG': ('PNF', 'GVR'), 'LTC': ('JRD', 'QCB'), 'GVQ': ('MXM', 'HXP'), 'KTL': ('TMF', 'LFH'), 'DGF': ('LSR', 'BRQ'), 'CLT': ('KMG', 'KVG'), 'KBH': ('JGX', 'BQS'), 'NBM': ('KQT', 'VMG'), 'XMN': ('HQM', 'NVS'), 'HCN': ('TPJ', 'LJK'), 'TDS': ('RJT', 'MQF'), 'LTB': ('DGL', 'KQH'), 'VNQ': ('NNT', 'LBM'), 'BLQ': ('KJC', 'XGD'), 'GDS': ('NXS', 'CTR'), 'FRM': ('GVX', 'LBN'), 'GML': ('QNT', 'MHM'), 'QNC': ('SBD', 'JCT'), 'RQT': ('TQB', 'GXG'), 'GGV': ('XVV', 'BNB'), 'HFG': ('JKB', 'JXB'), 'VJQ': ('NPG', 'PPK'), 'GDT': ('NSH', 'PMX'), 'VMF': ('BRM', 'FQD'), 'HKQ': ('QCX', 'FLV'), 'VVR': ('HKQ', 'QGG'), 'JQL': ('TQR', 'HLB'), 'BXP': ('SSG', 'VTL'), 'KBS': ('LJQ', 'NGM'), 'BNH': ('DFR', 'LTC'), 'BSR': ('QBF', 'VMS'), 'RFG': ('GCH', 'FXF'), 'XGZ': ('CNF', 'BVF'), 'VMG': ('KKT', 'VKD'), 'JCH': ('FJJ', 'MMF'), 'QHX': ('CHB', 'MXF'), 'FXL': ('GSS', 'SVJ'), 'CCL': ('VJQ', 'RGM'), 'GMM': ('RDD', 'SLV'), 'FFN': ('VXS', 'DMF'), 'CFK': ('FMM', 'DNH'), 'BKT': ('JFV', 'MVQ'), 'HTJ': ('HFQ', 'KJH'), 'BQM': ('XMR', 'TFS'), 'LJK': ('SHN', 'MFB'), 'CGX': ('JPF', 'TMB'), 'PHB': ('HSV', 'JQV'), 'FVS': ('MCF', 'RCF'), 'LFG': ('JST', 'RNG'), 'FLC': ('XXH', 'PRN'), 'JFC': ('GBR', 'DSF'), 'FRP': ('LTC', 'DFR'), 'MTL': ('FBJ', 'RSP'), 'GLG': ('QCR', 'VFT'), 'MNF': ('LCH', 'QBK'), 'NVP': ('HBH', 'JFC'), 'CJS': ('TNT', 'RNF'), 'QCX': ('MBS', 'BVX'), 'KJC': ('BXJ', 'PQK'), 'TMZ': ('RTR', 'FML'), 'QGG': ('FLV', 'QCX'), 'XSS': ('HPR', 'MRT'), 'RNG': ('PST', 'SRQ'), 'KKM': ('PJC', 'KBT'), 'FQM': ('SGD', 'QXN'), 'QDT': ('PHQ', 'QHX'), 'DPT': ('MHM', 'QNT'), 'KFG': ('VBX', 'KDC'), 'NPN': ('JXC', 'BVG'), 'RNT': ('STG', 'JCD'), 'PNF': ('QFN', 'MMK'), 'MPS': ('FVH', 'TMZ'), 'LHB': ('VVN', 'CKN'), 'FCP': ('XBB', 'BFC'), 'CKX': ('FXX', 'LQN'), 'XLX': ('GCR', 'KTX'), 'QFN': ('NSS', 'JVC'), 'FML': ('BPX', 'KDV'), 'CPP': ('QSG', 'NLS'), 'FQL': ('HDF', 'NSX'), 'GVT': ('CLT', 'MHC'), 'NDN': ('MBJ', 'MBB'), 'GPA': ('GLG', 'RRK'), 'PGB': ('XFX', 'RHX'), 'RRC': ('VQM', 'FNH'), 'MQP': ('HSK', 'BHF'), 'GLT': ('XFP', 'JMV'), 'GVN': ('JTT', 'SPH'), 'CPK': ('BBT', 'PXB'), 'KCX': ('FSQ', 'MQS'), 'KQH': ('JMT', 'CNQ'), 'JQV': ('DCR', 'HJB'), 'CVF': ('HRX', 'JCL'), 'TQG': ('NGP', 'NGP'), 'GVP': ('BJK', 'NMS'), 'NVS': ('LFR', 'LDR'), 'NKL': ('PMX', 'NSH'), 'SKF': ('KJH', 'HFQ'), 'NSP': ('BJM', 'TKX'), 'JHM': ('VDB', 'VCD'), 'DPV': ('PCX', 'FVV'), 'LLL': ('KHK', 'RCM'), 'XVK': ('VFS', 'BRJ'), 'JNH': ('JFC', 'HBH'), 'HGS': ('BGS', 'NFR'), 'VMQ': ('VBX', 'KDC'), 'DSM': ('MNS', 'JGH'), 'HXX': ('SKF', 'HTJ'), 'LXP': ('BJH', 'FJS'), 'TVQ': ('CQV', 'FRR'), 'RJT': ('JXR', 'SPJ'), 'RRR': ('RXP', 'GRF'), 'TKX': ('XLV', 'XRG'), 'MVP': ('CMQ', 'GLF'), 'BGK': ('VDB', 'VCD'), 'TQV': ('MVT', 'TNC'), 'DDB': ('LQN', 'FXX'), 'FQN': ('HGT', 'ZZZ'), 'DQG': ('VCK', 'NJF'), 'MRT': ('GPM', 'BMM'), 'QGV': ('CCL', 'PFB'), 'GRM': ('CVF', 'TRC'), 'FLJ': ('VVN', 'CKN'), 'BRM': ('LLJ', 'NDN'), 'NQF': ('FTX', 'TJR'), 'JKB': ('NQC', 'DNJ'), 'CMQ': ('RKX', 'MBG'), 'FLR': ('XNV', 'KNL'), 'TPF': ('RLQ', 'CQS'), 'JMT': ('XRT', 'QFX'), 'MVS': ('PDG', 'DHQ'), 'BRQ': ('MNN', 'SRL'), 'QDG': ('FTX', 'FTX'), 'NLN': ('TGR', 'SLB'), 'PHQ': ('CHB', 'CHB'), 'QRX': ('JKR', 'FFV'), 'FJS': ('LVV', 'DVM'), 'JDT': ('DPT', 'GML'), 'HNB': ('FBJ', 'RSP'), 'KPL': ('JMC', 'QNC'), 'LFR': ('MCR', 'BQV'), 'JPF': ('NTK', 'NPR'), 'VHG': ('GHD', 'CHL'), 'KQT': ('KKT', 'VKD'), 'LKA': ('XTB', 'DXG'), 'JXL': ('GCM', 'RHK'), 'FQD': ('LLJ', 'NDN'), 'CCF': ('XGR', 'LCL'), 'FNV': ('LQX', 'KMS'), 'MBS': ('JHP', 'VRP'), 'RGM': ('NPG', 'PPK'), 'CQS': ('TTB', 'CJS'), 'DFJ': ('KVL', 'RJG'), 'RQQ': ('LGQ', 'HPV'), 'PBF': ('STB', 'BXV'), 'NBT': ('QHK', 'XGL'), 'PRN': ('PVT', 'JPC'), 'CBF': ('FKC', 'KKL'), 'PVC': ('DFQ', 'TDS'), 'THC': ('FTG', 'TPN'), 'LCV': ('GJC', 'CKK'), 'SJB': ('QJD', 'PGH'), 'HNS': ('TMT', 'FXR'), 'TJR': ('VVM', 'XGZ'), 'PQK': ('STP', 'CMR'), 'MBG': ('CCX', 'FJK'), 'KKL': ('TTL', 'XDD'), 'PXB': ('LLL', 'XHB'), 'RTR': ('KDV', 'BPX'), 'PJC': ('DTV', 'MVS'), 'DDQ': ('TFD', 'GSR'), 'QCB': ('QGT', 'XMV'), 'MBD': ('NGM', 'LJQ'), 'VTD': ('BGK', 'JHM'), 'CJH': ('RNM', 'JRQ'), 'VHR': ('CBF', 'XCQ'), 'QPK': ('KMS', 'LQX'), 'BBJ': ('FXR', 'TMT'), 'JCD': ('GVR', 'PNF'), 'NBR': ('SLT', 'GGF'), 'PNJ': ('HRK', 'GKX'), 'VXM': ('HNM', 'JGD'), 'JFV': ('RQQ', 'TKD'), 'FHL': ('JSL', 'DNR'), 'VQM': ('NNN', 'LSM'), 'CKN': ('SHF', 'XMN'), 'NMS': ('SPG', 'QKC'), 'FNQ': ('JHK', 'TFV'), 'SSG': ('FKV', 'BPG'), 'XFB': ('JCS', 'FCT'), 'RSR': ('PBF', 'HCX'), 'KBL': ('FJS', 'BJH'), 'HKT': ('PVR', 'VTD'), 'CPR': ('FSN', 'JRH'), 'BDF': ('HGK', 'KKM'), 'KVP': ('NGP', 'MPS'), 'LNV': ('VJS', 'GVP'), 'SXN': ('PMT', 'JDT'), 'HGT': ('MCS', 'XCG'), 'TNC': ('TBL', 'SJV'), 'KKT': ('TQG', 'TQG'), 'KTX': ('VHL', 'TSN'), 'XFX': ('GXX', 'HRB'), 'VQQ': ('RJG', 'KVL'), 'KHJ': ('DSL', 'PNB'), 'GCH': ('NRR', 'NKB'), 'VPV': ('SSB', 'SFG'), 'KMS': ('MQP', 'DXR'), 'QPL': ('JJM', 'NDS'), 'FVV': ('MRP', 'TRP'), 'MQV': ('RSR', 'BNN'), 'XGF': ('SQB', 'VPQ'), 'DDC': ('PHQ', 'QHX'), 'PQH': ('FSJ', 'TSB'), 'SGV': ('VSQ', 'LTB'), 'SHF': ('HQM', 'NVS'), 'CCX': ('NLN', 'QHV'), 'SPG': ('JQL', 'SJJ'), 'HGJ': ('FQL', 'BSV'), 'MNN': ('QVM', 'FQM'), 'PJJ': ('GQK', 'HQR'), 'TDV': ('BNB', 'XVV'), 'PNB': ('BMD', 'GVK'), 'GQR': ('MKN', 'NBT'), 'MPR': ('HLV', 'PJV'), 'JSL': ('FPC', 'SLL'), 'QHK': ('RRC', 'MRV'), 'FSN': ('CFK', 'QQC'), 'HFQ': ('KPH', 'LFG'), 'BRJ': ('PFM', 'SPD'), 'PJR': ('HLD', 'MQN'), 'KVJ': ('GVQ', 'LCP'), 'VCK': ('BBF', 'DVJ'), 'LSR': ('SRL', 'MNN'), 'HVL': ('QDG', 'QDG'), 'KBT': ('DTV', 'MVS'), 'GGF': ('TXF', 'FFT'), 'DKD': ('TVM', 'SQG'), 'DNJ': ('LMN', 'FLC'), 'NNH': ('NTV', 'LTV'), 'TRC': ('JCL', 'HRX'), 'BML': ('HJJ', 'MPR'), 'BJH': ('LVV', 'DVM'), 'QHQ': ('JGX', 'BQS'), 'PMX': ('MDS', 'THH'), 'JJL': ('KBS', 'MBD'), 'BFC': ('PVG', 'KSH'), 'HKP': ('BML', 'MMS'), 'FNT': ('KVJ', 'BVV'), 'JKR': ('KVC', 'NPN'), 'VBR': ('BVV', 'KVJ'), 'BCJ': ('QBR', 'CJH'), 'FPB': ('CPK', 'DCT'), 'XMV': ('FFN', 'KFQ'), 'CQD': ('TFD', 'GSR'), 'DFA': ('FML', 'RTR'), 'KMH': ('TVM', 'SQG'), 'JMN': ('RMM', 'JNX'), 'JDH': ('MVT', 'TNC'), 'GPM': ('XVL', 'XVL'), 'DHQ': ('PPP', 'HKP'), 'XTF': ('GVX', 'LBN'), 'RBJ': ('JFV', 'MVQ'), 'XXH': ('PVT', 'PVT'), 'RJP': ('HNS', 'BBJ'), 'JRQ': ('QDT', 'DDC'), 'KMG': ('PJJ', 'FDQ'), 'MFK': ('NMN', 'GVN'), 'KSH': ('JJR', 'JHJ'), 'XTT': ('VSR', 'JMN'), 'RHX': ('HRB', 'GXX'), 'VSQ': ('DGL', 'KQH'), 'GJR': ('VMS', 'QBF'), 'VMN': ('JHK', 'TFV'), 'HTS': ('KNL', 'XNV'), 'LVV': ('QSD', 'XVD'), 'BHF': ('PLF', 'DPV'), 'QLH': ('RDD', 'SLV'), 'VDS': ('JNV', 'PQH'), 'RCF': ('MQV', 'BKP'), 'LDR': ('MCR', 'BQV'), 'VTN': ('SKF', 'HTJ'), 'TPN': ('MNK', 'GLT'), 'QVV': ('CPP', 'JJT'), 'KLF': ('HRD', 'CMX'), 'JHK': ('FNT', 'VBR'), 'DSF': ('PGB', 'CCS'), 'NMN': ('SPH', 'JTT'), 'SNH': ('GFQ', 'MGM'), 'CFL': ('VVL', 'LLT'), 'MVQ': ('TKD', 'RQQ'), 'KDV': ('PGD', 'JJL'), 'KHS': ('HCV', 'FDS'), 'GVK': ('KPL', 'CRR'), 'NLD': ('PVR', 'VTD'), 'BBF': ('DTM', 'RJP'), 'SDC': ('QDG', 'NQF'), 'SLL': ('CPR', 'GQP'), 'FJJ': ('VDQ', 'SGV'), 'MFB': ('TVQ', 'SMD'), 'JNJ': ('FXF', 'GCH'), 'VFJ': ('QQM', 'KVV'), 'GVX': ('RFM', 'KCX'), 'PCQ': ('RHK', 'GCM'), 'CGV': ('FTJ', 'BRB'), 'XDD': ('HKL', 'DGF'), 'CLH': ('VSF', 'PRK'), 'QBR': ('JRQ', 'RNM'), 'BNN': ('PBF', 'HCX'), 'DNH': ('FFX', 'JCH'), 'BSP': ('FQQ', 'PDQ'), 'TFV': ('FNT', 'VBR'), 'GCM': ('HFG', 'DHV'), 'CMB': ('PDQ', 'FQQ'), 'FXF': ('NRR', 'NKB'), 'VSR': ('RMM', 'JNX'), 'NSX': ('GQR', 'NVD'), 'GRF': ('RBC', 'PMG'), 'JRH': ('CFK', 'QQC'), 'FCT': ('VDP', 'SNH'), 'FSQ': ('QBP', 'FHL'), 'MBP': ('XJG', 'BXP'), 'FSJ': ('GVT', 'NDK'), 'NVD': ('NBT', 'MKN'), 'NRR': ('LTT', 'TRQ'), 'MCF': ('MQV', 'BKP'), 'SQB': ('QPK', 'FNV'), 'HPV': ('QPC', 'XVK'), 'PFM': ('SXN', 'GFK'), 'TTB': ('TNT', 'RNF'), 'HRD': ('FNQ', 'VMN'), 'PGJ': ('GLG', 'RRK'), 'XCQ': ('KKL', 'FKC'), 'CQV': ('TDV', 'GGV'), 'CJM': ('FDS', 'HCV'), 'LTT': ('JVR', 'QPL'), 'BVH': ('GTN', 'BJC'), 'STP': ('LNV', 'LNT'), 'QGT': ('FFN', 'KFQ'), 'VTL': ('FKV', 'BPG'), 'MNK': ('JMV', 'XFP'), 'VXQ': ('NBM', 'XFJ'), 'KKA': ('FLJ', 'LHB'), 'SRQ': ('KBH', 'QHQ'), 'VSX': ('VDM', 'RKG'), 'CQM': ('CFL', 'SHK'), 'PNN': ('JQJ', 'TKR'), 'KVV': ('TQH', 'THC'), 'MXM': ('JBP', 'DGQ'), 'TSN': ('PCV', 'MFK'), 'XRG': ('HQS', 'KTL'), 'PVT': ('TVL', 'TVL'), 'LFP': ('HDC', 'HDC'), 'CCK': ('KKM', 'HGK'), 'SHK': ('VVL', 'LLT'), 'RLQ': ('TTB', 'CJS'), 'BPG': ('FRT', 'CQM'), 'TSS': ('RQT', 'BXT'), 'CCS': ('RHX', 'XFX'), 'NQC': ('LMN', 'FLC'), 'BXT': ('GXG', 'TQB'), 'PJV': ('TSS', 'GLV'), 'NSH': ('MDS', 'THH'), 'NDS': ('XHG', 'PNJ'), 'TFD': ('DHR', 'BLQ'), 'PDQ': ('JNJ', 'RFG'), 'VGD': ('DFQ', 'TDS'), 'DCT': ('PXB', 'BBT'), 'LCH': ('NTX', 'RNT'), 'MFC': ('HGT', 'HGT'), 'DTM': ('HNS', 'BBJ'), 'FDS': ('CHR', 'JTJ'), 'BLL': ('LJK', 'TPJ'), 'GXX': ('QVK', 'NBN'), 'JMV': ('XXT', 'VXQ'), 'LSM': ('BNH', 'FRP'), 'JHJ': ('PNN', 'HPG'), 'RKX': ('FJK', 'CCX'), 'RXP': ('PMG', 'RBC'), 'RJG': ('GQN', 'VMF'), 'HCX': ('BXV', 'STB'), 'PDM': ('BFC', 'XBB'), 'SJJ': ('HLB', 'TQR'), 'BFK': ('FLR', 'HTS'), 'VJS': ('NMS', 'BJK'), 'CNF': ('XXG', 'MRB'), 'VDM': ('PQV', 'BCJ'), 'QHR': ('HLD', 'MQN'), 'SJC': ('BKT', 'RBJ'), 'RCM': ('MBP', 'DNV'), 'QBP': ('DNR', 'JSL'), 'MMF': ('SGV', 'VDQ'), 'VGJ': ('CKK', 'GJC'), 'VBX': ('DDQ', 'CQD'), 'GQP': ('JRH', 'FSN'), 'BCK': ('PJR', 'QHR'), 'VFT': ('DFJ', 'VQQ'), 'CTR': ('TKM', 'FPB'), 'NPR': ('QGV', 'CVB'), 'SPJ': ('RCD', 'DSM'), 'NNT': ('CGX', 'JVS'), 'MCR': ('FRM', 'XTF'), 'TBL': ('VTN', 'HXX'), 'GSR': ('DHR', 'BLQ'), 'PPK': ('VRH', 'HGS'), 'PVG': ('JHJ', 'JJR'), 'TXF': ('KMF', 'GRM'), 'TKD': ('HPV', 'LGQ'), 'RNF': ('VNQ', 'FNL'), 'THH': ('JXV', 'VFJ'), 'GBR': ('PGB', 'CCS'), 'LGB': ('PQH', 'JNV'), 'DHM': ('XCQ', 'CBF'), 'FKV': ('CQM', 'FRT'), 'SMD': ('CQV', 'FRR'), 'HNM': ('JXL', 'PCQ'), 'JVR': ('NDS', 'JJM'), 'KJH': ('KPH', 'LFG'), 'XVL': ('QJD', 'QJD')}\n",
      "Part 2: 21366921060721\n",
      "CPU times: user 49 ms, sys: 818 µs, total: 49.8 ms\n",
      "Wall time: 49.5 ms\n"
     ]
    }
   ],
   "source": [
    "%%time\n",
    "# DAY 8 #\n",
    "\n",
    "def run(part,i):\n",
    "    \n",
    "    def clean_input(input):\n",
    "        clean = {}\n",
    "        instructions, data = input.split(\"\\n\\n\")\n",
    "\n",
    "        for line in data.splitlines():\n",
    "            key, values = line.split(' = ')\n",
    "            left, right = values.strip()[1:-1].split(\", \")\n",
    "            clean[key] = (left, right)\n",
    "\n",
    "        return instructions, clean\n",
    "\n",
    "    def count_steps(start, destination_check, instructions, mapping):\n",
    "        count = 0\n",
    "        current_location = start\n",
    "        while True:\n",
    "            for step in instructions:\n",
    "                count += 1\n",
    "                if step == 'L':\n",
    "                    current_location = mapping[current_location][0]\n",
    "                if step == 'R':\n",
    "                    current_location = mapping[current_location][1]\n",
    "                if destination_check(current_location):\n",
    "                    return count\n",
    "\n",
    "    def part1():\n",
    "        instructions, mapping = clean_input(i)\n",
    "        return count_steps('AAA', lambda x: x == 'ZZZ', instructions, mapping)\n",
    "    \n",
    "    def part2():\n",
    "        instructions, mapping = clean_input(i)\n",
    "        starting_locations = [key for key in mapping if key.endswith('A')]\n",
    "        counts = []\n",
    "\n",
    "        # Find the # of steps for each location to get from A -> Z\n",
    "        for location in starting_locations:\n",
    "            counts.append(count_steps(location, lambda x: x.endswith('Z'), instructions, mapping))\n",
    "        \n",
    "        # LCM of all path lengths will be the first time that all paths end on Z simultaneously\n",
    "        return(math.lcm(*counts))\n",
    "                \n",
    "    return part1() if part == 1 else part2()\n",
    "\n",
    "# Run test\n",
    "test(run(1,'LLR\\n\\nAAA = (BBB, BBB)\\nBBB = (AAA, ZZZ)\\nZZZ = (ZZZ, ZZZ)'), TEST_SOLUTION_PART_1)\n",
    "test(run(2,TEST_INPUT), TEST_SOLUTION_PART_2)\n",
    "\n",
    "# Run on real input\n",
    "print(f\"Part 1: {run(1,PUZZLE_INPUT)}\")\n",
    "print(f\"Part 2: {run(2,PUZZLE_INPUT)}\")"
   ]
  },
  {
   "cell_type": "markdown",
   "metadata": {},
   "source": [
    "## Day 9\n",
    "\n",
    "[Link to puzzle](https://adventofcode.com/2023/day/9)"
   ]
  },
  {
   "cell_type": "code",
   "execution_count": 51,
   "metadata": {},
   "outputs": [],
   "source": [
    "# DAY CONFIG #\n",
    "DAY = \"9\"\n",
    "TEST_SOLUTION_PART_1 = 114\n",
    "TEST_SOLUTION_PART_2 = 2"
   ]
  },
  {
   "cell_type": "code",
   "execution_count": 57,
   "metadata": {},
   "outputs": [
    {
     "name": "stdout",
     "output_type": "stream",
     "text": [
      "Test success!\n",
      "Test success!\n",
      "Part 1: 1921197370\n",
      "Part 2: 1124\n",
      "CPU times: user 20 ms, sys: 1.38 ms, total: 21.4 ms\n",
      "Wall time: 20.1 ms\n"
     ]
    }
   ],
   "source": [
    "%%time\n",
    "# DAY 9 #\n",
    "\n",
    "def run(part,i):\n",
    "    \n",
    "    def clean_input(input):\n",
    "        clean = [[int(i) for i in line.split()] for line in input.splitlines()]\n",
    "        return clean\n",
    "\n",
    "    def extrapolate(sequence):\n",
    "        # Calculate differences between consecutive elements in the sequence\n",
    "        diffs = [(b - a) for a, b in zip(sequence, sequence[1:])]\n",
    "\n",
    "        # Recursively extrapolate the differences and add the result to the last element\n",
    "        # If all zeroes, return 0\n",
    "        return sequence[-1] + extrapolate(diffs) if sequence else 0\n",
    "\n",
    "    def part1():\n",
    "        input = clean_input(i)\n",
    "        return sum(extrapolate(line) for line in input)\n",
    "    \n",
    "    def part2():\n",
    "        input = clean_input(i)\n",
    "        # Reverse the list and extrapolate to extrapolate \"backwards\"\n",
    "        return sum(extrapolate(line[::-1]) for line in input)\n",
    "                \n",
    "    return part1() if part == 1 else part2()\n",
    "\n",
    "# Run test\n",
    "test(run(1,TEST_INPUT), TEST_SOLUTION_PART_1)\n",
    "test(run(2,TEST_INPUT), TEST_SOLUTION_PART_2)\n",
    "\n",
    "# Run on real input\n",
    "print(f\"Part 1: {run(1,PUZZLE_INPUT)}\")\n",
    "print(f\"Part 2: {run(2,PUZZLE_INPUT)}\")"
   ]
  }
 ],
 "metadata": {
  "interpreter": {
   "hash": "aee8b7b246df8f9039afb4144a1f6fd8d2ca17a180786b69acc140d282b71a49"
  },
  "kernelspec": {
   "display_name": "Python 3.11.6 64-bit",
   "language": "python",
   "name": "python3"
  },
  "language_info": {
   "codemirror_mode": {
    "name": "ipython",
    "version": 3
   },
   "file_extension": ".py",
   "mimetype": "text/x-python",
   "name": "python",
   "nbconvert_exporter": "python",
   "pygments_lexer": "ipython3",
   "version": "3.11.6"
  },
  "orig_nbformat": 4
 },
 "nbformat": 4,
 "nbformat_minor": 2
}
