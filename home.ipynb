{
 "cells": [
  {
   "cell_type": "markdown",
   "metadata": {},
   "source": [
    "# Advent of Code 2023"
   ]
  },
  {
   "cell_type": "markdown",
   "metadata": {},
   "source": [
    "## Contents\n",
    "- [Day 1](#day-1)\n",
    "- [Day 2](#day-2)\n",
    "- [Day 3](#day-3)"
   ]
  },
  {
   "cell_type": "markdown",
   "metadata": {},
   "source": [
    "## Boilerplate"
   ]
  },
  {
   "cell_type": "code",
   "execution_count": 60,
   "metadata": {},
   "outputs": [],
   "source": [
    "# SETUP #\n",
    "import math\n",
    "\n",
    "# TEST #\n",
    "def test(test, solution):\n",
    "    if test != solution:\n",
    "        print(f\"Test failed. Expected {solution}, but got {test}.\")\n",
    "    else: print(\"Test success!\")"
   ]
  },
  {
   "cell_type": "code",
   "execution_count": 61,
   "metadata": {},
   "outputs": [],
   "source": [
    "# FILE READING - Run *after* day config #\n",
    "with open(f\"inputs/{DAY}.txt\", mode=\"rt\") as f:\n",
    "    PUZZLE_INPUT = f.read()\n",
    "\n",
    "with open(f\"test_inputs/{DAY}.txt\", mode=\"rt\") as f:\n",
    "    TEST_INPUT = f.read()"
   ]
  },
  {
   "cell_type": "markdown",
   "metadata": {},
   "source": [
    "## Day 1"
   ]
  },
  {
   "cell_type": "code",
   "execution_count": 53,
   "metadata": {},
   "outputs": [],
   "source": [
    "# DAY CONFIG #\n",
    "DAY = \"1\"\n",
    "TEST_SOLUTION_PART_1 = 142\n",
    "TEST_SOLUTION_PART_2 = 281"
   ]
  },
  {
   "cell_type": "code",
   "execution_count": 59,
   "metadata": {},
   "outputs": [
    {
     "name": "stdout",
     "output_type": "stream",
     "text": [
      "Test success!\n",
      "Test success!\n",
      "Part 1: 54951\n",
      "Part 2: 55218\n"
     ]
    }
   ],
   "source": [
    "# DAY 1 #\n",
    "def run(part,i):\n",
    "    \n",
    "    # Part 2 only\n",
    "    if part == 2:\n",
    "        number_names = [\n",
    "            (\"one\", \"one1one\"),\n",
    "            (\"two\", \"two2two\"),\n",
    "            (\"three\", \"three3three\"),\n",
    "            (\"four\", \"four4four\"),\n",
    "            (\"five\", \"five5five\"),\n",
    "            (\"six\", \"six6six\"),\n",
    "            (\"seven\", \"seven7seven\"),\n",
    "            (\"eight\", \"eight8eight\"),\n",
    "            (\"nine\", \"nine9nine\"),\n",
    "        ]\n",
    "        for pair in number_names:\n",
    "            i = i.replace(pair[0], pair[1])\n",
    "\n",
    "    total = 0\n",
    "    # For each line, combine the first and last digits and add to total\n",
    "    for line in i.splitlines():\n",
    "        digits = ''.join(c for c in line if c.isdigit())\n",
    "        total += int(digits[0] + digits[-1])\n",
    "    return total\n",
    "\n",
    "# Run test\n",
    "test(run(1,\"1abc2\\npqr3stu8vwx\\na1b2c3d4e5f\\ntreb7uchet\"), TEST_SOLUTION_PART_1)\n",
    "test(run(2,TEST_INPUT), TEST_SOLUTION_PART_2)\n",
    "\n",
    "# Run on real input\n",
    "print(f\"Part 1: {run(1,PUZZLE_INPUT)}\")\n",
    "print(f\"Part 2: {run(2,PUZZLE_INPUT)}\")"
   ]
  },
  {
   "cell_type": "markdown",
   "metadata": {},
   "source": [
    "## Day 2"
   ]
  },
  {
   "cell_type": "code",
   "execution_count": 46,
   "metadata": {},
   "outputs": [],
   "source": [
    "# DAY CONFIG #\n",
    "DAY = \"2\"\n",
    "TEST_SOLUTION_PART_1 = 8\n",
    "TEST_SOLUTION_PART_2 = 2286"
   ]
  },
  {
   "cell_type": "code",
   "execution_count": null,
   "metadata": {},
   "outputs": [],
   "source": [
    "# DAY 2 #\n",
    "def run(part,i):\n",
    "    \n",
    "    def clean_input(i):\n",
    "        # Parse the input into the following format:\n",
    "        # {'1': {'red': 4, 'green': 2, 'blue': 6}, '2': {'red': 1, 'green': 3, 'blue': 4}...\n",
    "        clean = {}\n",
    "\n",
    "        # Input line format -> Game 1: 3 blue, 4 red; 1 red, 2 green, 6 blue; 2 green\n",
    "        for line in i.splitlines():\n",
    "            # Break into \"Game X\" and game data (list of hands), then isolate game ID\n",
    "            id, game = line.split(\": \")\n",
    "            id = id.split(\" \")[1]\n",
    "            \n",
    "            clean[id] = {\"red\": 0, \"green\": 0, \"blue\": 0}\n",
    "\n",
    "            for round in game.split(\"; \"):\n",
    "                for r in round.split(\", \"):\n",
    "                    amount, colour = r.split(\" \")\n",
    "                    # Update the value for a colour only if it is higher than the existing value\n",
    "                    clean[id][colour] = max(clean[id][colour], int(amount))\n",
    "\n",
    "        return clean\n",
    "\n",
    "    def validate(id,game):\n",
    "        # Return game ID for valid games, 0 for invalid\n",
    "        max_values = {\"red\": 12, \"green\": 13, \"blue\": 14}\n",
    "\n",
    "        for colour, value in game.items():\n",
    "            if value > max_values[colour]:\n",
    "                return 0\n",
    "            \n",
    "        return int(id)\n",
    "\n",
    "    def get_power(game):\n",
    "        return math.prod(game.values())\n",
    "\n",
    "    data = clean_input(i)\n",
    "    total = 0\n",
    "    total_power = 0\n",
    "    \n",
    "    for id,game in data.items():\n",
    "        total += validate(id,game)\n",
    "        total_power += get_power(game)\n",
    "\n",
    "    print(f\"Part 1 {total}\")\n",
    "    print(f\"Part 2 {total_power}\")\n",
    "\n",
    "    return total if (part == 1) else total_power\n",
    "\n",
    "# Run test\n",
    "test(run(1,TEST_INPUT), TEST_SOLUTION_PART_1)\n",
    "test(run(2,TEST_INPUT), TEST_SOLUTION_PART_2)\n",
    "\n",
    "# Run on real input\n",
    "run(0,PUZZLE_INPUT)"
   ]
  },
  {
   "cell_type": "markdown",
   "metadata": {},
   "source": [
    "## Day 3"
   ]
  },
  {
   "cell_type": "code",
   "execution_count": 63,
   "metadata": {},
   "outputs": [],
   "source": [
    "# DAY CONFIG #\n",
    "DAY = \"3\"\n",
    "TEST_SOLUTION_PART_1 = 0\n",
    "TEST_SOLUTION_PART_2 = 0"
   ]
  },
  {
   "cell_type": "code",
   "execution_count": 64,
   "metadata": {},
   "outputs": [
    {
     "name": "stdout",
     "output_type": "stream",
     "text": [
      "Test success!\n",
      "Test success!\n"
     ]
    },
    {
     "data": {
      "text/plain": [
       "0"
      ]
     },
     "execution_count": 64,
     "metadata": {},
     "output_type": "execute_result"
    }
   ],
   "source": [
    "# DAY 2 #\n",
    "def run(part,i):\n",
    "    return 0\n",
    "\n",
    "# Run test\n",
    "test(run(1,TEST_INPUT), TEST_SOLUTION_PART_1)\n",
    "test(run(2,TEST_INPUT), TEST_SOLUTION_PART_2)\n",
    "\n",
    "# Run on real input\n",
    "run(1,PUZZLE_INPUT)"
   ]
  }
 ],
 "metadata": {
  "interpreter": {
   "hash": "aee8b7b246df8f9039afb4144a1f6fd8d2ca17a180786b69acc140d282b71a49"
  },
  "kernelspec": {
   "display_name": "Python 3.11.6 64-bit",
   "language": "python",
   "name": "python3"
  },
  "language_info": {
   "codemirror_mode": {
    "name": "ipython",
    "version": 3
   },
   "file_extension": ".py",
   "mimetype": "text/x-python",
   "name": "python",
   "nbconvert_exporter": "python",
   "pygments_lexer": "ipython3",
   "version": "3.11.6"
  },
  "orig_nbformat": 4
 },
 "nbformat": 4,
 "nbformat_minor": 2
}
