{
 "cells": [
  {
   "cell_type": "markdown",
   "metadata": {},
   "source": [
    "# Advent of Code 2023"
   ]
  },
  {
   "cell_type": "markdown",
   "metadata": {},
   "source": [
    "## Contents\n",
    "- [Day 1](#day-1)\n",
    "- [Day 2](#day-2)\n",
    "- [Day 3](#day-3)\n",
    "- [Day 4](#day-4)\n",
    "- [Day 5](#day-5)\n",
    "- [Day 6](#day-6)\n",
    "- [Day 7](#day-7)\n",
    "- [Day 8](#day-8)\n",
    "- [Day 9](#day-9)\n",
    "- [Day 10](#day-10)\n",
    "- [Day 11](#day-11)\n",
    "- [Day 12](#day-12)"
   ]
  },
  {
   "cell_type": "markdown",
   "metadata": {},
   "source": [
    "## Boilerplate"
   ]
  },
  {
   "cell_type": "code",
   "execution_count": 173,
   "metadata": {},
   "outputs": [],
   "source": [
    "# SETUP #\n",
    "import math\n",
    "import operator\n",
    "from functools import reduce\n",
    "\n",
    "# TEST #\n",
    "def test(test, solution):\n",
    "    if test != solution:\n",
    "        print(f\"Test failed. Expected {solution}, but got {test}.\")\n",
    "    else: print(\"Test success!\")"
   ]
  },
  {
   "cell_type": "code",
   "execution_count": 186,
   "metadata": {},
   "outputs": [
    {
     "ename": "FileNotFoundError",
     "evalue": "[Errno 2] No such file or directory: 'inputs/7.txt'",
     "output_type": "error",
     "traceback": [
      "\u001b[0;31m---------------------------------------------------------------------------\u001b[0m",
      "\u001b[0;31mFileNotFoundError\u001b[0m                         Traceback (most recent call last)",
      "\u001b[1;32m/Users/ari/Documents/Code/aoc-2023/home.ipynb Cell 5\u001b[0m line \u001b[0;36m2\n\u001b[1;32m      <a href='vscode-notebook-cell:/Users/ari/Documents/Code/aoc-2023/home.ipynb#X24sZmlsZQ%3D%3D?line=0'>1</a>\u001b[0m \u001b[39m# FILE READING - Run *after* day config #\u001b[39;00m\n\u001b[0;32m----> <a href='vscode-notebook-cell:/Users/ari/Documents/Code/aoc-2023/home.ipynb#X24sZmlsZQ%3D%3D?line=1'>2</a>\u001b[0m \u001b[39mwith\u001b[39;00m \u001b[39mopen\u001b[39;49m(\u001b[39mf\u001b[39;49m\u001b[39m\"\u001b[39;49m\u001b[39minputs/\u001b[39;49m\u001b[39m{\u001b[39;49;00mDAY\u001b[39m}\u001b[39;49;00m\u001b[39m.txt\u001b[39;49m\u001b[39m\"\u001b[39;49m, mode\u001b[39m=\u001b[39;49m\u001b[39m\"\u001b[39;49m\u001b[39mrt\u001b[39;49m\u001b[39m\"\u001b[39;49m) \u001b[39mas\u001b[39;00m f:\n\u001b[1;32m      <a href='vscode-notebook-cell:/Users/ari/Documents/Code/aoc-2023/home.ipynb#X24sZmlsZQ%3D%3D?line=2'>3</a>\u001b[0m     PUZZLE_INPUT \u001b[39m=\u001b[39m f\u001b[39m.\u001b[39mread()\n\u001b[1;32m      <a href='vscode-notebook-cell:/Users/ari/Documents/Code/aoc-2023/home.ipynb#X24sZmlsZQ%3D%3D?line=4'>5</a>\u001b[0m \u001b[39mwith\u001b[39;00m \u001b[39mopen\u001b[39m(\u001b[39mf\u001b[39m\u001b[39m\"\u001b[39m\u001b[39mtest_inputs/\u001b[39m\u001b[39m{\u001b[39;00mDAY\u001b[39m}\u001b[39;00m\u001b[39m.txt\u001b[39m\u001b[39m\"\u001b[39m, mode\u001b[39m=\u001b[39m\u001b[39m\"\u001b[39m\u001b[39mrt\u001b[39m\u001b[39m\"\u001b[39m) \u001b[39mas\u001b[39;00m f:\n",
      "File \u001b[0;32m/usr/local/lib/python3.11/site-packages/IPython/core/interactiveshell.py:310\u001b[0m, in \u001b[0;36m_modified_open\u001b[0;34m(file, *args, **kwargs)\u001b[0m\n\u001b[1;32m    303\u001b[0m \u001b[39mif\u001b[39;00m file \u001b[39min\u001b[39;00m {\u001b[39m0\u001b[39m, \u001b[39m1\u001b[39m, \u001b[39m2\u001b[39m}:\n\u001b[1;32m    304\u001b[0m     \u001b[39mraise\u001b[39;00m \u001b[39mValueError\u001b[39;00m(\n\u001b[1;32m    305\u001b[0m         \u001b[39mf\u001b[39m\u001b[39m\"\u001b[39m\u001b[39mIPython won\u001b[39m\u001b[39m'\u001b[39m\u001b[39mt let you open fd=\u001b[39m\u001b[39m{\u001b[39;00mfile\u001b[39m}\u001b[39;00m\u001b[39m by default \u001b[39m\u001b[39m\"\u001b[39m\n\u001b[1;32m    306\u001b[0m         \u001b[39m\"\u001b[39m\u001b[39mas it is likely to crash IPython. If you know what you are doing, \u001b[39m\u001b[39m\"\u001b[39m\n\u001b[1;32m    307\u001b[0m         \u001b[39m\"\u001b[39m\u001b[39myou can use builtins\u001b[39m\u001b[39m'\u001b[39m\u001b[39m open.\u001b[39m\u001b[39m\"\u001b[39m\n\u001b[1;32m    308\u001b[0m     )\n\u001b[0;32m--> 310\u001b[0m \u001b[39mreturn\u001b[39;00m io_open(file, \u001b[39m*\u001b[39;49margs, \u001b[39m*\u001b[39;49m\u001b[39m*\u001b[39;49mkwargs)\n",
      "\u001b[0;31mFileNotFoundError\u001b[0m: [Errno 2] No such file or directory: 'inputs/7.txt'"
     ]
    }
   ],
   "source": [
    "# FILE READING - Run *after* day config #\n",
    "with open(f\"inputs/{DAY}.txt\", mode=\"rt\") as f:\n",
    "    PUZZLE_INPUT = f.read()\n",
    "\n",
    "with open(f\"test_inputs/{DAY}.txt\", mode=\"rt\") as f:\n",
    "    TEST_INPUT = f.read()"
   ]
  },
  {
   "cell_type": "markdown",
   "metadata": {},
   "source": [
    "## Day 1\n",
    "\n",
    "[Link to puzzle](https://adventofcode.com/2023/day/1)"
   ]
  },
  {
   "cell_type": "code",
   "execution_count": 101,
   "metadata": {},
   "outputs": [],
   "source": [
    "# DAY CONFIG #\n",
    "DAY = \"1\"\n",
    "TEST_SOLUTION_PART_1 = 142\n",
    "TEST_SOLUTION_PART_2 = 281"
   ]
  },
  {
   "cell_type": "code",
   "execution_count": 104,
   "metadata": {},
   "outputs": [
    {
     "name": "stdout",
     "output_type": "stream",
     "text": [
      "Test success!\n",
      "Test success!\n",
      "Part 1: 54951\n",
      "Part 2: 55218\n",
      "CPU times: user 7.99 ms, sys: 771 µs, total: 8.76 ms\n",
      "Wall time: 8.25 ms\n"
     ]
    }
   ],
   "source": [
    "%%time\n",
    "# DAY 1 #\n",
    "def run(part,i):\n",
    "    \n",
    "    # Part 2 only\n",
    "    if part == 2:\n",
    "        number_names = [\n",
    "            (\"one\", \"one1one\"),\n",
    "            (\"two\", \"two2two\"),\n",
    "            (\"three\", \"three3three\"),\n",
    "            (\"four\", \"four4four\"),\n",
    "            (\"five\", \"five5five\"),\n",
    "            (\"six\", \"six6six\"),\n",
    "            (\"seven\", \"seven7seven\"),\n",
    "            (\"eight\", \"eight8eight\"),\n",
    "            (\"nine\", \"nine9nine\"),\n",
    "        ]\n",
    "        for pair in number_names:\n",
    "            i = i.replace(pair[0], pair[1])\n",
    "\n",
    "    total = 0\n",
    "    # For each line, combine the first and last digits and add to total\n",
    "    for line in i.splitlines():\n",
    "        digits = ''.join(c for c in line if c.isdigit())\n",
    "        total += int(digits[0] + digits[-1])\n",
    "    return total\n",
    "\n",
    "# Run test\n",
    "test(run(1,\"1abc2\\npqr3stu8vwx\\na1b2c3d4e5f\\ntreb7uchet\"), TEST_SOLUTION_PART_1)\n",
    "test(run(2,TEST_INPUT), TEST_SOLUTION_PART_2)\n",
    "\n",
    "# Run on real input\n",
    "print(f\"Part 1: {run(1,PUZZLE_INPUT)}\")\n",
    "print(f\"Part 2: {run(2,PUZZLE_INPUT)}\")"
   ]
  },
  {
   "cell_type": "markdown",
   "metadata": {},
   "source": [
    "## Day 2\n",
    "\n",
    "[Link to puzzle](https://adventofcode.com/2023/day/2)"
   ]
  },
  {
   "cell_type": "code",
   "execution_count": 105,
   "metadata": {},
   "outputs": [],
   "source": [
    "# DAY CONFIG #\n",
    "DAY = \"2\"\n",
    "TEST_SOLUTION_PART_1 = 8\n",
    "TEST_SOLUTION_PART_2 = 2286"
   ]
  },
  {
   "cell_type": "code",
   "execution_count": 108,
   "metadata": {},
   "outputs": [
    {
     "name": "stdout",
     "output_type": "stream",
     "text": [
      "Test success!\n",
      "Test success!\n",
      "Part 1: 2449\n",
      "Part 2: 63981\n",
      "CPU times: user 3.75 ms, sys: 101 µs, total: 3.86 ms\n",
      "Wall time: 3.94 ms\n"
     ]
    }
   ],
   "source": [
    "%%time\n",
    "# DAY 2 #\n",
    "def run(part,i):\n",
    "    \n",
    "    def clean_input(i):\n",
    "        # Parse the input into the following format:\n",
    "        # {'1': {'red': 4, 'green': 2, 'blue': 6}, '2': {'red': 1, 'green': 3, 'blue': 4}...\n",
    "        clean = {}\n",
    "\n",
    "        # Input line format -> Game 1: 3 blue, 4 red; 1 red, 2 green, 6 blue; 2 green\n",
    "        for line in i.splitlines():\n",
    "            # Break into \"Game X\" and game data (list of hands), then isolate game ID\n",
    "            id, game = line.split(\": \")\n",
    "            id = id.split(\" \")[1]\n",
    "            \n",
    "            clean[id] = {\"red\": 0, \"green\": 0, \"blue\": 0}\n",
    "\n",
    "            for round in game.split(\"; \"):\n",
    "                for r in round.split(\", \"):\n",
    "                    amount, colour = r.split(\" \")\n",
    "                    # Update the value for a colour only if it is higher than the existing value\n",
    "                    clean[id][colour] = max(clean[id][colour], int(amount))\n",
    "\n",
    "        return clean\n",
    "\n",
    "    def validate(id,game):\n",
    "        # Return game ID for valid games, 0 for invalid\n",
    "        max_values = {\"red\": 12, \"green\": 13, \"blue\": 14}\n",
    "\n",
    "        for colour, value in game.items():\n",
    "            if value > max_values[colour]:\n",
    "                return 0\n",
    "            \n",
    "        return int(id)\n",
    "\n",
    "    def get_power(game):\n",
    "        return math.prod(game.values())\n",
    "\n",
    "    data = clean_input(i)\n",
    "    \n",
    "    total = 0\n",
    "    total_power = 0\n",
    "\n",
    "    for id, game in data.items():\n",
    "        total += validate(id, game)\n",
    "        total_power += get_power(game)\n",
    "\n",
    "    return total if (part == 1) else total_power\n",
    "\n",
    "# Run test\n",
    "test(run(1,TEST_INPUT), TEST_SOLUTION_PART_1)\n",
    "test(run(2,TEST_INPUT), TEST_SOLUTION_PART_2)\n",
    "\n",
    "# Run on real input\n",
    "print(f\"Part 1: {run(1,PUZZLE_INPUT)}\")\n",
    "print(f\"Part 2: {run(2,PUZZLE_INPUT)}\")"
   ]
  },
  {
   "cell_type": "markdown",
   "metadata": {},
   "source": [
    "## Day 3\n",
    "\n",
    "[Link to puzzle](https://adventofcode.com/2023/day/3)"
   ]
  },
  {
   "cell_type": "code",
   "execution_count": 109,
   "metadata": {},
   "outputs": [],
   "source": [
    "# DAY CONFIG #\n",
    "DAY = \"3\"\n",
    "TEST_SOLUTION_PART_1 = 4361\n",
    "TEST_SOLUTION_PART_2 = 467835"
   ]
  },
  {
   "cell_type": "code",
   "execution_count": 111,
   "metadata": {},
   "outputs": [
    {
     "name": "stdout",
     "output_type": "stream",
     "text": [
      "Test success!\n",
      "Test success!\n",
      "Part 1: 556057\n",
      "Part 2: 82824352\n",
      "CPU times: user 17.2 ms, sys: 1.43 ms, total: 18.7 ms\n",
      "Wall time: 17.6 ms\n"
     ]
    }
   ],
   "source": [
    "%%time\n",
    "# DAY 3 #\n",
    "def run(part,i):\n",
    "    # Convert input to 2D matrix\n",
    "    i = list(map(list, i.splitlines()))\n",
    "\n",
    "    checked = [[] for _ in i]\n",
    "    parts = []\n",
    "    gears = []\n",
    "\n",
    "    def find_adjacent_numbers(row, column) -> ([int], int):\n",
    "        adjacent_count = 0\n",
    "        numbers = []\n",
    "        gear_power = 0\n",
    "\n",
    "        # Check row and column before and after\n",
    "        for r in range(row-1, row+2):\n",
    "            for c in range(column-1, column+2):\n",
    "                if number := check_digit(r,c): \n",
    "                    numbers.append(number)\n",
    "                    adjacent_count += 1\n",
    "\n",
    "        if i[row][column] == '*' and adjacent_count == 2:\n",
    "            gear_power = math.prod(numbers)\n",
    "        \n",
    "        return (numbers, gear_power)\n",
    "\n",
    "    def check_digit(row, column) -> int:\n",
    "        if row < 0 or row >= len(i) or column < 0 or column >= len(i[row]):\n",
    "            return # out of bounds\n",
    "        \n",
    "        if i[row][column].isdigit() and column not in checked[row]:\n",
    "            # Walk back to start of digit and save it\n",
    "            number = ''\n",
    "            while column > 0 and i[row][column-1].isdigit():\n",
    "                column -= 1\n",
    "                \n",
    "            while column < len(i[row]) and i[row][column].isdigit():\n",
    "                number += i[row][column]\n",
    "                checked[row].append(column)\n",
    "                column += 1\n",
    "\n",
    "            return int(number)\n",
    "\n",
    "    for row in range(len(i)):\n",
    "        for column in range(len(i[row])):\n",
    "            # Check for symbol, find numbers near it\n",
    "            if not i[row][column].isdigit() and i[row][column] != '.':\n",
    "                numbers, score = find_adjacent_numbers(row, column)\n",
    "                parts.extend(numbers)\n",
    "                gears.append(score)\n",
    "\n",
    "    return sum(parts) if part == 1 else sum(gears)\n",
    "\n",
    "# Run test\n",
    "test(run(1,TEST_INPUT), TEST_SOLUTION_PART_1)\n",
    "test(run(2,TEST_INPUT), TEST_SOLUTION_PART_2)\n",
    "\n",
    "# Run on real input\n",
    "print(f\"Part 1: {run(1,PUZZLE_INPUT)}\")\n",
    "print(f\"Part 2: {run(2,PUZZLE_INPUT)}\")"
   ]
  },
  {
   "cell_type": "markdown",
   "metadata": {},
   "source": [
    "## Day 4\n",
    "\n",
    "[Link to puzzle](https://adventofcode.com/2023/day/4)"
   ]
  },
  {
   "cell_type": "code",
   "execution_count": 112,
   "metadata": {},
   "outputs": [],
   "source": [
    "# DAY CONFIG #\n",
    "DAY = \"4\"\n",
    "TEST_SOLUTION_PART_1 = 13\n",
    "TEST_SOLUTION_PART_2 = 30"
   ]
  },
  {
   "cell_type": "code",
   "execution_count": 115,
   "metadata": {},
   "outputs": [
    {
     "name": "stdout",
     "output_type": "stream",
     "text": [
      "Test success!\n",
      "Test success!\n",
      "Part 1: 28750\n",
      "Part 2: 10212704\n",
      "CPU times: user 6.17 ms, sys: 535 µs, total: 6.71 ms\n",
      "Wall time: 6.52 ms\n"
     ]
    }
   ],
   "source": [
    "%%time\n",
    "# DAY 4 #\n",
    "\n",
    "def run(part,i):\n",
    "    \n",
    "    def clean_input(i):\n",
    "        # Format -> Card 1: 41 48 83 86 17 | 83 86  6 31 17  9 48 53\n",
    "        # Return generator of id/wins tuples\n",
    "        for line in i.splitlines():\n",
    "            id, data = line.split(\": \")\n",
    "            id = int(id.split(\" \")[-1])\n",
    "            winners, card = (set(x.split()) for x in data.split(\" | \"))\n",
    "            wins = len(winners & card)\n",
    "            yield id, wins\n",
    "    \n",
    "    score = 0\n",
    "    copies = [1] * len(i.splitlines()) # 1 copy of each card to start\n",
    "\n",
    "    for id, wins in clean_input(i):\n",
    "        score += 1 << (wins - 1) if wins > 0 else 0 # bit shift - same as 2^(wins-1)\n",
    "        for x in range(wins):\n",
    "            copies[id+x] += copies[id-1]\n",
    "\n",
    "    return score if part == 1 else sum(copies)\n",
    "\n",
    "# Run test\n",
    "test(run(1,TEST_INPUT), TEST_SOLUTION_PART_1)\n",
    "test(run(2,TEST_INPUT), TEST_SOLUTION_PART_2)\n",
    "\n",
    "# Run on real input\n",
    "print(f\"Part 1: {run(1,PUZZLE_INPUT)}\")\n",
    "print(f\"Part 2: {run(2,PUZZLE_INPUT)}\")"
   ]
  },
  {
   "cell_type": "markdown",
   "metadata": {},
   "source": [
    "## Day 5\n",
    "\n",
    "[Link to puzzle](https://adventofcode.com/2023/day/5)"
   ]
  },
  {
   "cell_type": "code",
   "execution_count": 116,
   "metadata": {},
   "outputs": [],
   "source": [
    "# DAY CONFIG #\n",
    "DAY = \"5\"\n",
    "TEST_SOLUTION_PART_1 = 35\n",
    "TEST_SOLUTION_PART_2 = 46"
   ]
  },
  {
   "cell_type": "code",
   "execution_count": 119,
   "metadata": {},
   "outputs": [
    {
     "name": "stdout",
     "output_type": "stream",
     "text": [
      "Test success!\n",
      "Test success!\n",
      "Part 1: 313045984\n",
      "Part 2: 20283860\n",
      "CPU times: user 5.69 ms, sys: 549 µs, total: 6.23 ms\n",
      "Wall time: 5.85 ms\n"
     ]
    }
   ],
   "source": [
    "%%time\n",
    "# DAY 5 #\n",
    "\n",
    "def run(part,i):\n",
    "\n",
    "    def clean_input(input):\n",
    "        groups = input.split(\"\\n\\n\")\n",
    "        seeds = groups[0].split()[1:]\n",
    " \n",
    "        mappings = []\n",
    "        for map in groups[1:]:\n",
    "            section = []\n",
    "            for line in map.splitlines()[1:]:\n",
    "                start_dest, start_source, length = [int(val) for val in line.split()]\n",
    "                section.append((range(start_source, start_source + length), start_dest))\n",
    "            mappings.append(section)\n",
    "\n",
    "        return seeds, mappings\n",
    "\n",
    "    def map_value(value, section):\n",
    "        for range, destination in section:\n",
    "            if value in range:\n",
    "                return destination + (value - range.start)\n",
    "        return value\n",
    "\n",
    "    def check_ranges(ranges_to_check, mapping):\n",
    "        new_ranges = []\n",
    "\n",
    "        for current_range in ranges_to_check:\n",
    "            for map_range, next_start in mapping:\n",
    "                intersection = range(max(map_range.start, current_range.start), min(map_range.stop, current_range.stop))\n",
    "                \n",
    "                if intersection: # if there is a valid intersection\n",
    "                    offset = next_start - map_range.start\n",
    "                    new_ranges.append(range(intersection.start + offset, intersection.stop + offset))\n",
    "\n",
    "                    # Update ranges to check based on the intersection\n",
    "                    if intersection.start > current_range.start:\n",
    "                        ranges_to_check.append(range(current_range.start, intersection.start))\n",
    "\n",
    "                    if intersection.stop < current_range.stop:\n",
    "                        ranges_to_check.append(range(intersection.stop, current_range.stop))\n",
    "\n",
    "                    break\n",
    "            else:\n",
    "                new_ranges.append(current_range)\n",
    "\n",
    "        return new_ranges\n",
    "    \n",
    "    # Main functions #\n",
    "    \n",
    "    def part1(): \n",
    "        locations = []   \n",
    "        seeds, mappings = clean_input(i)\n",
    "        for seed in seeds:\n",
    "            for section in mappings:\n",
    "                seed = map_value(int(seed), section)\n",
    "            locations.append(seed)   \n",
    "        return min(locations)\n",
    "\n",
    "    def part2():\n",
    "        seeds, mappings = clean_input(i)\n",
    "        seed_ranges = [\n",
    "            range(int(seeds[i]), int(seeds[i + 1]) + int(seeds[i])) \n",
    "            for i in range(0, len(seeds), 2)\n",
    "        ]\n",
    "\n",
    "        lowest = float('inf') # really big number\n",
    "        for sr in seed_ranges:\n",
    "            ranges = [sr]\n",
    "\n",
    "            for mapping in mappings:\n",
    "                ranges = check_ranges(ranges, mapping)\n",
    "\n",
    "            lowest = min(lowest, min(r.start for r in ranges))\n",
    "\n",
    "        return lowest\n",
    "                \n",
    "    return part1() if part == 1 else part2()\n",
    "\n",
    "# Run test\n",
    "test(run(1,TEST_INPUT), TEST_SOLUTION_PART_1)\n",
    "test(run(2,TEST_INPUT), TEST_SOLUTION_PART_2)\n",
    "\n",
    "# Run on real input\n",
    "print(f\"Part 1: {run(1,PUZZLE_INPUT)}\")\n",
    "print(f\"Part 2: {run(2,PUZZLE_INPUT)}\")"
   ]
  },
  {
   "cell_type": "markdown",
   "metadata": {},
   "source": [
    "## Day 6\n",
    "\n",
    "[Link to puzzle](https://adventofcode.com/2023/day/6)"
   ]
  },
  {
   "cell_type": "code",
   "execution_count": 137,
   "metadata": {},
   "outputs": [],
   "source": [
    "# DAY CONFIG #\n",
    "DAY = \"6\"\n",
    "TEST_SOLUTION_PART_1 = 288\n",
    "TEST_SOLUTION_PART_2 = 71503"
   ]
  },
  {
   "cell_type": "code",
   "execution_count": 184,
   "metadata": {},
   "outputs": [
    {
     "name": "stdout",
     "output_type": "stream",
     "text": [
      "Test success!\n",
      "Test success!\n",
      "Part 1: 252000\n",
      "Part 2: 36992486\n",
      "CPU times: user 403 µs, sys: 66 µs, total: 469 µs\n",
      "Wall time: 449 µs\n"
     ]
    }
   ],
   "source": [
    "%%time\n",
    "# DAY 6 #\n",
    "\n",
    "def run(part,i):\n",
    "    \n",
    "    def clean_input(input, combined=True):\n",
    "        lines = input.splitlines()\n",
    "        if combined:\n",
    "            # Tuple of (time, distance)\n",
    "            result = (int(''.join(line.split()[1:])) for line in lines)\n",
    "        else:\n",
    "            # List of (time, distance) for each race\n",
    "            result = list(zip(map(int, lines[0].split()[1:]), map(int, lines[1].split()[1:])))\n",
    "        return result\n",
    "\n",
    "    def winning_cases_brute(time, distance):\n",
    "        # Simple solution, ~5s for part 2\n",
    "        # True/False for win/lose\n",
    "        wins = [speed * (time - speed) > distance for speed in range(time)]\n",
    "        return sum(wins)\n",
    "\n",
    "    def winning_cases_quadratic(time, distance):\n",
    "        # Quadratic equation time!\n",
    "        # a = 1, b = -time, c = distance\n",
    "        sqrt_discriminant = math.sqrt(time**2 - 4*distance)\n",
    "        upper, lower = (time + sqrt_discriminant) / 2, (time - sqrt_discriminant) / 2\n",
    "        return math.ceil(upper) - math.floor(lower) -1\n",
    "    \n",
    "    # Main functions #\n",
    "\n",
    "    def part1():\n",
    "        # Multiply the winning cases for each race\n",
    "        races = clean_input(i, False)\n",
    "        return reduce(operator.mul, (winning_cases_quadratic(*race) for race in races), 1)\n",
    "\n",
    "    def part2():\n",
    "        # Get number of winning cases for single race\n",
    "        time, distance = clean_input(i)\n",
    "        return winning_cases_quadratic(time, distance)\n",
    "                \n",
    "    return part1() if part == 1 else part2()\n",
    "\n",
    "# Run test\n",
    "test(run(1,TEST_INPUT), TEST_SOLUTION_PART_1)\n",
    "test(run(2,TEST_INPUT), TEST_SOLUTION_PART_2)\n",
    "\n",
    "# Run on real input\n",
    "print(f\"Part 1: {run(1,PUZZLE_INPUT)}\")\n",
    "print(f\"Part 2: {run(2,PUZZLE_INPUT)}\")"
   ]
  },
  {
   "cell_type": "markdown",
   "metadata": {},
   "source": [
    "## Day 7\n",
    "\n",
    "[Link to puzzle](https://adventofcode.com/2023/day/7)"
   ]
  },
  {
   "cell_type": "code",
   "execution_count": 185,
   "metadata": {},
   "outputs": [],
   "source": [
    "# DAY CONFIG #\n",
    "DAY = \"7\"\n",
    "TEST_SOLUTION_PART_1 = 1\n",
    "TEST_SOLUTION_PART_2 = 1"
   ]
  },
  {
   "cell_type": "code",
   "execution_count": 187,
   "metadata": {},
   "outputs": [
    {
     "name": "stdout",
     "output_type": "stream",
     "text": [
      "Test failed. Expected 1, but got 0.\n",
      "Test failed. Expected 1, but got 0.\n",
      "Part 1: 0\n",
      "Part 2: 0\n",
      "CPU times: user 123 µs, sys: 16 µs, total: 139 µs\n",
      "Wall time: 128 µs\n"
     ]
    }
   ],
   "source": [
    "%%time\n",
    "# DAY 7 #\n",
    "\n",
    "def run(part,i):\n",
    "    \n",
    "    def clean_input(input):\n",
    "        return 0\n",
    "    \n",
    "    # Main functions #\n",
    "\n",
    "    def part1():\n",
    "        return 0\n",
    "\n",
    "    def part2():\n",
    "        return 0\n",
    "                \n",
    "    return part1() if part == 1 else part2()\n",
    "\n",
    "# Run test\n",
    "test(run(1,TEST_INPUT), TEST_SOLUTION_PART_1)\n",
    "test(run(2,TEST_INPUT), TEST_SOLUTION_PART_2)\n",
    "\n",
    "# Run on real input\n",
    "print(f\"Part 1: {run(1,PUZZLE_INPUT)}\")\n",
    "print(f\"Part 2: {run(2,PUZZLE_INPUT)}\")"
   ]
  }
 ],
 "metadata": {
  "interpreter": {
   "hash": "aee8b7b246df8f9039afb4144a1f6fd8d2ca17a180786b69acc140d282b71a49"
  },
  "kernelspec": {
   "display_name": "Python 3.11.6 64-bit",
   "language": "python",
   "name": "python3"
  },
  "language_info": {
   "codemirror_mode": {
    "name": "ipython",
    "version": 3
   },
   "file_extension": ".py",
   "mimetype": "text/x-python",
   "name": "python",
   "nbconvert_exporter": "python",
   "pygments_lexer": "ipython3",
   "version": "3.12.0"
  },
  "orig_nbformat": 4
 },
 "nbformat": 4,
 "nbformat_minor": 2
}
